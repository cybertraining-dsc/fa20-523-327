{
  "nbformat": 4,
  "nbformat_minor": 0,
  "metadata": {
    "kernelspec": {
      "display_name": "Python 3",
      "language": "python",
      "name": "python3"
    },
    "language_info": {
      "codemirror_mode": {
        "name": "ipython",
        "version": 3
      },
      "file_extension": ".py",
      "mimetype": "text/x-python",
      "name": "python",
      "nbconvert_exporter": "python",
      "pygments_lexer": "ipython3",
      "version": "3.7.6"
    },
    "colab": {
      "name": "youtubeanalysis.ipynb",
      "provenance": [],
      "collapsed_sections": []
    }
  },
  "cells": [
    {
      "cell_type": "code",
      "metadata": {
        "id": "r0fd-lYg0vn8",
        "colab": {
          "base_uri": "https://localhost:8080/"
        },
        "outputId": "48aaa593-e4cc-4ab6-a948-4f153d986302"
      },
      "source": [
        "#check if python is installed\n",
        "try:\n",
        "  !python --version\n",
        "except:\n",
        "  print(\"It does not look like python is installed\")"
      ],
      "execution_count": null,
      "outputs": [
        {
          "output_type": "stream",
          "text": [
            "Python 3.6.9\n"
          ],
          "name": "stdout"
        }
      ]
    },
    {
      "cell_type": "markdown",
      "metadata": {
        "id": "6JPh0sjD062U"
      },
      "source": [
        "Importing Data"
      ]
    },
    {
      "cell_type": "markdown",
      "metadata": {
        "id": "rDY0T_QNGn9x"
      },
      "source": [
        "mount"
      ]
    },
    {
      "cell_type": "code",
      "metadata": {
        "id": "qVhjNId7Xjl4",
        "colab": {
          "base_uri": "https://localhost:8080/"
        },
        "outputId": "b48ac0cc-9ad1-4b54-fdfe-81233d969ddf"
      },
      "source": [
        "from google.colab import drive\n",
        "drive.mount('/content/drive')"
      ],
      "execution_count": null,
      "outputs": [
        {
          "output_type": "stream",
          "text": [
            "Mounted at /content/drive\n"
          ],
          "name": "stdout"
        }
      ]
    },
    {
      "cell_type": "code",
      "metadata": {
        "id": "CAlRPiv5hXjD",
        "colab": {
          "resources": {
            "http://localhost:8080/nbextensions/google.colab/files.js": {
              "data": "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",
              "ok": true,
              "headers": [
                [
                  "content-type",
                  "application/javascript"
                ]
              ],
              "status": 200,
              "status_text": ""
            }
          },
          "base_uri": "https://localhost:8080/",
          "height": 72
        },
        "outputId": "6397630c-fcdd-4402-9c07-c9577650cd74"
      },
      "source": [
        "#import from kaggle.json from local to drive\n",
        "!pip install -q kaggle\n",
        "from google.colab import files\n",
        "files.upload()"
      ],
      "execution_count": null,
      "outputs": [
        {
          "output_type": "display_data",
          "data": {
            "text/html": [
              "\n",
              "     <input type=\"file\" id=\"files-863cd45b-1e09-4f0b-9518-bb58603823de\" name=\"files[]\" multiple disabled\n",
              "        style=\"border:none\" />\n",
              "     <output id=\"result-863cd45b-1e09-4f0b-9518-bb58603823de\">\n",
              "      Upload widget is only available when the cell has been executed in the\n",
              "      current browser session. Please rerun this cell to enable.\n",
              "      </output>\n",
              "      <script src=\"/nbextensions/google.colab/files.js\"></script> "
            ],
            "text/plain": [
              "<IPython.core.display.HTML object>"
            ]
          },
          "metadata": {
            "tags": []
          }
        },
        {
          "output_type": "stream",
          "text": [
            "Saving USvideos.csv to USvideos.csv\n"
          ],
          "name": "stdout"
        }
      ]
    },
    {
      "cell_type": "code",
      "metadata": {
        "scrolled": true,
        "id": "wCZPQNdHhXip"
      },
      "source": [
        "#import modules\n",
        "import pandas as pd\n",
        "import datetime\n",
        "import numpy as np\n",
        "import seaborn as sns\n",
        "import matplotlib.pyplot as plt\n",
        "from sklearn.datasets import load_iris\n",
        "from sklearn.tree import DecisionTreeClassifier\n",
        "from sklearn.ensemble import RandomForestClassifier\n",
        "from sklearn.model_selection import train_test_split\n",
        "from sklearn.ensemble import RandomForestClassifier\n",
        "from sklearn.datasets import make_classification\n",
        "from sklearn import tree\n",
        "from sklearn import metrics \n",
        "\n",
        "\n",
        "#load file\n",
        "def load_csv(file):\n",
        "\tdf = pd.read_csv(file)\n",
        "\treturn df\n",
        "\n",
        "\n",
        "#main\n",
        "if __name__== \"__main__\":\n",
        "  date_file = \"USvideos.csv\"\n",
        "\n",
        "df = pd.read_csv(\"USvideos.csv\")\n",
        "\n",
        "df = df.iloc[:21000,:]\n"
      ],
      "execution_count": null,
      "outputs": []
    },
    {
      "cell_type": "markdown",
      "metadata": {
        "id": "Q0HQFAwArL6s"
      },
      "source": [
        "familiarize myself with the data"
      ]
    },
    {
      "cell_type": "code",
      "metadata": {
        "id": "yoopHPxhqz0B",
        "colab": {
          "base_uri": "https://localhost:8080/"
        },
        "outputId": "6dbcf17d-cf1a-418e-98bf-e9864c1577d3"
      },
      "source": [
        "df.info()"
      ],
      "execution_count": null,
      "outputs": [
        {
          "output_type": "stream",
          "text": [
            "<class 'pandas.core.frame.DataFrame'>\n",
            "RangeIndex: 21000 entries, 0 to 20999\n",
            "Data columns (total 16 columns):\n",
            " #   Column                  Non-Null Count  Dtype \n",
            "---  ------                  --------------  ----- \n",
            " 0   video_id                21000 non-null  object\n",
            " 1   trending_date           21000 non-null  object\n",
            " 2   title                   21000 non-null  object\n",
            " 3   channel_title           21000 non-null  object\n",
            " 4   category_id             21000 non-null  int64 \n",
            " 5   publish_time            21000 non-null  object\n",
            " 6   tags                    21000 non-null  object\n",
            " 7   views                   21000 non-null  int64 \n",
            " 8   likes                   21000 non-null  int64 \n",
            " 9   dislikes                21000 non-null  int64 \n",
            " 10  comment_count           21000 non-null  int64 \n",
            " 11  thumbnail_link          21000 non-null  object\n",
            " 12  comments_disabled       21000 non-null  bool  \n",
            " 13  ratings_disabled        21000 non-null  bool  \n",
            " 14  video_error_or_removed  21000 non-null  bool  \n",
            " 15  description             20594 non-null  object\n",
            "dtypes: bool(3), int64(5), object(8)\n",
            "memory usage: 2.1+ MB\n"
          ],
          "name": "stdout"
        }
      ]
    },
    {
      "cell_type": "code",
      "metadata": {
        "id": "l6fn3Hx2rfPe",
        "colab": {
          "base_uri": "https://localhost:8080/",
          "height": 297
        },
        "outputId": "49fc1d86-bd0e-4cfb-b1d1-4ab97c43bc87"
      },
      "source": [
        "df.describe()"
      ],
      "execution_count": null,
      "outputs": [
        {
          "output_type": "execute_result",
          "data": {
            "text/html": [
              "<div>\n",
              "<style scoped>\n",
              "    .dataframe tbody tr th:only-of-type {\n",
              "        vertical-align: middle;\n",
              "    }\n",
              "\n",
              "    .dataframe tbody tr th {\n",
              "        vertical-align: top;\n",
              "    }\n",
              "\n",
              "    .dataframe thead th {\n",
              "        text-align: right;\n",
              "    }\n",
              "</style>\n",
              "<table border=\"1\" class=\"dataframe\">\n",
              "  <thead>\n",
              "    <tr style=\"text-align: right;\">\n",
              "      <th></th>\n",
              "      <th>category_id</th>\n",
              "      <th>views</th>\n",
              "      <th>likes</th>\n",
              "      <th>dislikes</th>\n",
              "      <th>comment_count</th>\n",
              "    </tr>\n",
              "  </thead>\n",
              "  <tbody>\n",
              "    <tr>\n",
              "      <th>count</th>\n",
              "      <td>40949.000000</td>\n",
              "      <td>4.094900e+04</td>\n",
              "      <td>4.094900e+04</td>\n",
              "      <td>4.094900e+04</td>\n",
              "      <td>4.094900e+04</td>\n",
              "    </tr>\n",
              "    <tr>\n",
              "      <th>mean</th>\n",
              "      <td>19.972429</td>\n",
              "      <td>2.360785e+06</td>\n",
              "      <td>7.426670e+04</td>\n",
              "      <td>3.711401e+03</td>\n",
              "      <td>8.446804e+03</td>\n",
              "    </tr>\n",
              "    <tr>\n",
              "      <th>std</th>\n",
              "      <td>7.568327</td>\n",
              "      <td>7.394114e+06</td>\n",
              "      <td>2.288853e+05</td>\n",
              "      <td>2.902971e+04</td>\n",
              "      <td>3.743049e+04</td>\n",
              "    </tr>\n",
              "    <tr>\n",
              "      <th>min</th>\n",
              "      <td>1.000000</td>\n",
              "      <td>5.490000e+02</td>\n",
              "      <td>0.000000e+00</td>\n",
              "      <td>0.000000e+00</td>\n",
              "      <td>0.000000e+00</td>\n",
              "    </tr>\n",
              "    <tr>\n",
              "      <th>25%</th>\n",
              "      <td>17.000000</td>\n",
              "      <td>2.423290e+05</td>\n",
              "      <td>5.424000e+03</td>\n",
              "      <td>2.020000e+02</td>\n",
              "      <td>6.140000e+02</td>\n",
              "    </tr>\n",
              "    <tr>\n",
              "      <th>50%</th>\n",
              "      <td>24.000000</td>\n",
              "      <td>6.818610e+05</td>\n",
              "      <td>1.809100e+04</td>\n",
              "      <td>6.310000e+02</td>\n",
              "      <td>1.856000e+03</td>\n",
              "    </tr>\n",
              "    <tr>\n",
              "      <th>75%</th>\n",
              "      <td>25.000000</td>\n",
              "      <td>1.823157e+06</td>\n",
              "      <td>5.541700e+04</td>\n",
              "      <td>1.938000e+03</td>\n",
              "      <td>5.755000e+03</td>\n",
              "    </tr>\n",
              "    <tr>\n",
              "      <th>max</th>\n",
              "      <td>43.000000</td>\n",
              "      <td>2.252119e+08</td>\n",
              "      <td>5.613827e+06</td>\n",
              "      <td>1.674420e+06</td>\n",
              "      <td>1.361580e+06</td>\n",
              "    </tr>\n",
              "  </tbody>\n",
              "</table>\n",
              "</div>"
            ],
            "text/plain": [
              "        category_id         views         likes      dislikes  comment_count\n",
              "count  40949.000000  4.094900e+04  4.094900e+04  4.094900e+04   4.094900e+04\n",
              "mean      19.972429  2.360785e+06  7.426670e+04  3.711401e+03   8.446804e+03\n",
              "std        7.568327  7.394114e+06  2.288853e+05  2.902971e+04   3.743049e+04\n",
              "min        1.000000  5.490000e+02  0.000000e+00  0.000000e+00   0.000000e+00\n",
              "25%       17.000000  2.423290e+05  5.424000e+03  2.020000e+02   6.140000e+02\n",
              "50%       24.000000  6.818610e+05  1.809100e+04  6.310000e+02   1.856000e+03\n",
              "75%       25.000000  1.823157e+06  5.541700e+04  1.938000e+03   5.755000e+03\n",
              "max       43.000000  2.252119e+08  5.613827e+06  1.674420e+06   1.361580e+06"
            ]
          },
          "metadata": {
            "tags": []
          },
          "execution_count": 6
        }
      ]
    },
    {
      "cell_type": "code",
      "metadata": {
        "id": "3HsBya1VrrCg",
        "colab": {
          "base_uri": "https://localhost:8080/"
        },
        "outputId": "d98323de-b7cb-4d1c-9c87-d795d297d3a2"
      },
      "source": [
        "#Check for null values\n",
        "null = df.isna().sum()\n",
        "\n",
        "for key in null.keys():\n",
        "    if(null[key] > 0):\n",
        "        print(key,\":\",null[key])\n"
      ],
      "execution_count": null,
      "outputs": [
        {
          "output_type": "stream",
          "text": [
            "description : 570\n"
          ],
          "name": "stdout"
        }
      ]
    },
    {
      "cell_type": "code",
      "metadata": {
        "id": "hmQ4QaXgZL2d"
      },
      "source": [
        "#turn boolean labels into 1/0\n",
        "df[\"comments_disabled\"] = df[\"comments_disabled\"].astype(int)\n",
        "df[\"ratings_disabled\"] = df[\"ratings_disabled\"].astype(int)\n",
        "df[\"video_error_or_removed\"] = df[\"video_error_or_removed\"].astype(int)"
      ],
      "execution_count": null,
      "outputs": []
    },
    {
      "cell_type": "markdown",
      "metadata": {
        "id": "ke3xEdsntgSi"
      },
      "source": [
        "separate dates into respective columns"
      ]
    },
    {
      "cell_type": "code",
      "metadata": {
        "id": "_LsXKd3WhXix"
      },
      "source": [
        "#clean publish date\n",
        "\n",
        "df['publish_time'] = pd.to_datetime(df[\"publish_time\"], format = '%Y-%m-%d')\n"
      ],
      "execution_count": null,
      "outputs": []
    },
    {
      "cell_type": "code",
      "metadata": {
        "scrolled": true,
        "id": "_mUGYBaghXi1"
      },
      "source": [
        "#clean trending date\n",
        "\n",
        "df['trending_date'] = pd.to_datetime(df[\"trending_date\"], format = '%y.%d.%m')\n"
      ],
      "execution_count": null,
      "outputs": []
    },
    {
      "cell_type": "code",
      "metadata": {
        "id": "isD5LvBUtf_f"
      },
      "source": [
        "#create new columns\n",
        "df['td_month'] = df['trending_date'].dt.month\n",
        "df['td_day'] = df['trending_date'].dt.day\n",
        "df['td_year'] = df['trending_date'].dt.year\n",
        "df['p_month'] = df['publish_time'].dt.month\n",
        "df['p_day'] = df['publish_time'].dt.day\n",
        "df['p_year'] = df['publish_time'].dt.year"
      ],
      "execution_count": null,
      "outputs": []
    },
    {
      "cell_type": "code",
      "metadata": {
        "id": "_K3UiSfXPIUW"
      },
      "source": [
        "for month in df[\"p_month\"]:\n",
        "  print(month)"
      ],
      "execution_count": null,
      "outputs": []
    },
    {
      "cell_type": "markdown",
      "metadata": {
        "id": "lDv6DiRRbyOR"
      },
      "source": [
        ""
      ]
    },
    {
      "cell_type": "markdown",
      "metadata": {
        "id": "VN75HNG7UJPe"
      },
      "source": [
        "decision tree"
      ]
    },
    {
      "cell_type": "code",
      "metadata": {
        "id": "EYCx7WJQbPk4",
        "colab": {
          "base_uri": "https://localhost:8080/"
        },
        "outputId": "e885f5c6-73a0-4dc0-a6e7-7c710601178e"
      },
      "source": [
        "#drop fields that cannot be ran through model or relevant\n",
        "df = df.drop(['trending_date','video_id', 'title', 'channel_title', 'publish_time', 'tags',\n",
        "             'thumbnail_link', 'description'], axis = 'columns')\n",
        "df.info()"
      ],
      "execution_count": null,
      "outputs": [
        {
          "output_type": "stream",
          "text": [
            "<class 'pandas.core.frame.DataFrame'>\n",
            "RangeIndex: 21000 entries, 0 to 20999\n",
            "Data columns (total 14 columns):\n",
            " #   Column                  Non-Null Count  Dtype\n",
            "---  ------                  --------------  -----\n",
            " 0   category_id             21000 non-null  int64\n",
            " 1   views                   21000 non-null  int64\n",
            " 2   likes                   21000 non-null  int64\n",
            " 3   dislikes                21000 non-null  int64\n",
            " 4   comment_count           21000 non-null  int64\n",
            " 5   comments_disabled       21000 non-null  int64\n",
            " 6   ratings_disabled        21000 non-null  int64\n",
            " 7   video_error_or_removed  21000 non-null  int64\n",
            " 8   td_month                21000 non-null  int64\n",
            " 9   td_day                  21000 non-null  int64\n",
            " 10  td_year                 21000 non-null  int64\n",
            " 11  p_month                 21000 non-null  int64\n",
            " 12  p_day                   21000 non-null  int64\n",
            " 13  p_year                  21000 non-null  int64\n",
            "dtypes: int64(14)\n",
            "memory usage: 2.2 MB\n"
          ],
          "name": "stdout"
        }
      ]
    },
    {
      "cell_type": "code",
      "metadata": {
        "id": "qqlzJq2IaPuW"
      },
      "source": [
        "#test\n",
        "x = df[['category_id', 'likes', 'dislikes', 'comment_count', \n",
        "         'comments_disabled', 'ratings_disabled', 'video_error_or_removed', 'td_month',\n",
        "         'td_day', 'td_year', 'p_month', 'p_day', 'p_year']]\n",
        "y = df[\"views\"]\n",
        "x_train, x_test, y_train, y_test = train_test_split(x, y, test_size = 0.3, random_state = 33)"
      ],
      "execution_count": null,
      "outputs": []
    },
    {
      "cell_type": "code",
      "metadata": {
        "id": "KMmaC18TYt-y"
      },
      "source": [
        "#works\n",
        "#x = df.drop(['views'], axis = 'columns')\n",
        "x = df[\"views\"]\n",
        "y = df[\"dislikes\"]\n",
        "x_train, x_test, y_train, y_test = train_test_split(x, y, test_size = 0.3, random_state = 43)"
      ],
      "execution_count": null,
      "outputs": []
    },
    {
      "cell_type": "code",
      "metadata": {
        "id": "tQTe2Smtbzf8"
      },
      "source": [
        "DecisionTree_Class_Model = DecisionTreeClassifier()"
      ],
      "execution_count": null,
      "outputs": []
    },
    {
      "cell_type": "code",
      "metadata": {
        "id": "GPLlz2KccKyi",
        "colab": {
          "base_uri": "https://localhost:8080/"
        },
        "outputId": "2a778cf7-25e4-464c-cc3e-4ea770b623b8"
      },
      "source": [
        "DecisionTree_Class_Model.fit(x_train, y_train)"
      ],
      "execution_count": null,
      "outputs": [
        {
          "output_type": "execute_result",
          "data": {
            "text/plain": [
              "DecisionTreeClassifier(ccp_alpha=0.0, class_weight=None, criterion='gini',\n",
              "                       max_depth=None, max_features=None, max_leaf_nodes=None,\n",
              "                       min_impurity_decrease=0.0, min_impurity_split=None,\n",
              "                       min_samples_leaf=1, min_samples_split=2,\n",
              "                       min_weight_fraction_leaf=0.0, presort='deprecated',\n",
              "                       random_state=None, splitter='best')"
            ]
          },
          "metadata": {
            "tags": []
          },
          "execution_count": 34
        }
      ]
    },
    {
      "cell_type": "code",
      "metadata": {
        "id": "ol80rrUBgCFg",
        "colab": {
          "base_uri": "https://localhost:8080/"
        },
        "outputId": "3cb757d4-acfc-47e7-e7bc-314496f733e6"
      },
      "source": [
        "y_pred = DecisionTree_Class_Model.predict(x_test)\n",
        "y_pred"
      ],
      "execution_count": null,
      "outputs": [
        {
          "output_type": "execute_result",
          "data": {
            "text/plain": [
              "array([  69408,   35487, 2223948, ...,  258476, 4181144,  488046])"
            ]
          },
          "metadata": {
            "tags": []
          },
          "execution_count": 35
        }
      ]
    },
    {
      "cell_type": "code",
      "metadata": {
        "id": "o5TPXxrXgLE-",
        "colab": {
          "base_uri": "https://localhost:8080/"
        },
        "outputId": "0884000e-44ee-4ae4-8c90-0f7e377d96e8"
      },
      "source": [
        "accuracy = metrics.accuracy_score(y_test, y_pred)\n",
        "accuracy\n"
      ],
      "execution_count": null,
      "outputs": [
        {
          "output_type": "execute_result",
          "data": {
            "text/plain": [
              "0.0004761904761904762"
            ]
          },
          "metadata": {
            "tags": []
          },
          "execution_count": 36
        }
      ]
    },
    {
      "cell_type": "markdown",
      "metadata": {
        "id": "rZ60AO6gcx1N"
      },
      "source": [
        "test size = .2, accuracy = .82\n",
        "\n",
        "test size = .3, accuracy = .805\n",
        "\n",
        "test size = .4, accuracy = .79\n",
        "\n",
        "test size = .5, accuracy = .767\n",
        "\n",
        "test size = .6, accuracy = .74\n",
        "\n",
        "test size = .7, accuracy = .706\n",
        "\n",
        "test size = .8, accuracy = .645"
      ]
    },
    {
      "cell_type": "markdown",
      "metadata": {
        "id": "7iiSelG-1WhF"
      },
      "source": [
        "random forest"
      ]
    },
    {
      "cell_type": "code",
      "metadata": {
        "id": "CHz8K7fV1Xl5",
        "colab": {
          "base_uri": "https://localhost:8080/",
          "height": 374
        },
        "outputId": "fd8d17bc-7210-4206-d5f2-0e5f3eee3078"
      },
      "source": [
        "df1 = df1.drop(['trending_date','video_id', 'title', 'channel_title', 'publish_time', 'tags',\n",
        "             'thumbnail_link', 'comments_disabled', 'ratings_disabled', 'video_error_or_removed', 'description'], axis = 'columns')\n",
        "df1.info()\n",
        "\n"
      ],
      "execution_count": null,
      "outputs": [
        {
          "output_type": "error",
          "ename": "KeyError",
          "evalue": "ignored",
          "traceback": [
            "\u001b[0;31m---------------------------------------------------------------------------\u001b[0m",
            "\u001b[0;31mKeyError\u001b[0m                                  Traceback (most recent call last)",
            "\u001b[0;32m<ipython-input-8-78e5dd555ce8>\u001b[0m in \u001b[0;36m<module>\u001b[0;34m()\u001b[0m\n\u001b[1;32m      1\u001b[0m df1 = df1.drop(['trending_date','video_id', 'title', 'channel_title', 'publish_time', 'tags',\n\u001b[0;32m----> 2\u001b[0;31m              'thumbnail_link', 'comments_disabled', 'ratings_disabled', 'video_error_or_removed', 'description'], axis = 'columns')\n\u001b[0m\u001b[1;32m      3\u001b[0m \u001b[0mdf1\u001b[0m\u001b[0;34m.\u001b[0m\u001b[0minfo\u001b[0m\u001b[0;34m(\u001b[0m\u001b[0;34m)\u001b[0m\u001b[0;34m\u001b[0m\u001b[0;34m\u001b[0m\u001b[0m\n\u001b[1;32m      4\u001b[0m \u001b[0;34m\u001b[0m\u001b[0m\n",
            "\u001b[0;32m/usr/local/lib/python3.6/dist-packages/pandas/core/frame.py\u001b[0m in \u001b[0;36mdrop\u001b[0;34m(self, labels, axis, index, columns, level, inplace, errors)\u001b[0m\n\u001b[1;32m   4172\u001b[0m             \u001b[0mlevel\u001b[0m\u001b[0;34m=\u001b[0m\u001b[0mlevel\u001b[0m\u001b[0;34m,\u001b[0m\u001b[0;34m\u001b[0m\u001b[0;34m\u001b[0m\u001b[0m\n\u001b[1;32m   4173\u001b[0m             \u001b[0minplace\u001b[0m\u001b[0;34m=\u001b[0m\u001b[0minplace\u001b[0m\u001b[0;34m,\u001b[0m\u001b[0;34m\u001b[0m\u001b[0;34m\u001b[0m\u001b[0m\n\u001b[0;32m-> 4174\u001b[0;31m             \u001b[0merrors\u001b[0m\u001b[0;34m=\u001b[0m\u001b[0merrors\u001b[0m\u001b[0;34m,\u001b[0m\u001b[0;34m\u001b[0m\u001b[0;34m\u001b[0m\u001b[0m\n\u001b[0m\u001b[1;32m   4175\u001b[0m         )\n\u001b[1;32m   4176\u001b[0m \u001b[0;34m\u001b[0m\u001b[0m\n",
            "\u001b[0;32m/usr/local/lib/python3.6/dist-packages/pandas/core/generic.py\u001b[0m in \u001b[0;36mdrop\u001b[0;34m(self, labels, axis, index, columns, level, inplace, errors)\u001b[0m\n\u001b[1;32m   3885\u001b[0m         \u001b[0;32mfor\u001b[0m \u001b[0maxis\u001b[0m\u001b[0;34m,\u001b[0m \u001b[0mlabels\u001b[0m \u001b[0;32min\u001b[0m \u001b[0maxes\u001b[0m\u001b[0;34m.\u001b[0m\u001b[0mitems\u001b[0m\u001b[0;34m(\u001b[0m\u001b[0;34m)\u001b[0m\u001b[0;34m:\u001b[0m\u001b[0;34m\u001b[0m\u001b[0;34m\u001b[0m\u001b[0m\n\u001b[1;32m   3886\u001b[0m             \u001b[0;32mif\u001b[0m \u001b[0mlabels\u001b[0m \u001b[0;32mis\u001b[0m \u001b[0;32mnot\u001b[0m \u001b[0;32mNone\u001b[0m\u001b[0;34m:\u001b[0m\u001b[0;34m\u001b[0m\u001b[0;34m\u001b[0m\u001b[0m\n\u001b[0;32m-> 3887\u001b[0;31m                 \u001b[0mobj\u001b[0m \u001b[0;34m=\u001b[0m \u001b[0mobj\u001b[0m\u001b[0;34m.\u001b[0m\u001b[0m_drop_axis\u001b[0m\u001b[0;34m(\u001b[0m\u001b[0mlabels\u001b[0m\u001b[0;34m,\u001b[0m \u001b[0maxis\u001b[0m\u001b[0;34m,\u001b[0m \u001b[0mlevel\u001b[0m\u001b[0;34m=\u001b[0m\u001b[0mlevel\u001b[0m\u001b[0;34m,\u001b[0m \u001b[0merrors\u001b[0m\u001b[0;34m=\u001b[0m\u001b[0merrors\u001b[0m\u001b[0;34m)\u001b[0m\u001b[0;34m\u001b[0m\u001b[0;34m\u001b[0m\u001b[0m\n\u001b[0m\u001b[1;32m   3888\u001b[0m \u001b[0;34m\u001b[0m\u001b[0m\n\u001b[1;32m   3889\u001b[0m         \u001b[0;32mif\u001b[0m \u001b[0minplace\u001b[0m\u001b[0;34m:\u001b[0m\u001b[0;34m\u001b[0m\u001b[0;34m\u001b[0m\u001b[0m\n",
            "\u001b[0;32m/usr/local/lib/python3.6/dist-packages/pandas/core/generic.py\u001b[0m in \u001b[0;36m_drop_axis\u001b[0;34m(self, labels, axis, level, errors)\u001b[0m\n\u001b[1;32m   3919\u001b[0m                 \u001b[0mnew_axis\u001b[0m \u001b[0;34m=\u001b[0m \u001b[0maxis\u001b[0m\u001b[0;34m.\u001b[0m\u001b[0mdrop\u001b[0m\u001b[0;34m(\u001b[0m\u001b[0mlabels\u001b[0m\u001b[0;34m,\u001b[0m \u001b[0mlevel\u001b[0m\u001b[0;34m=\u001b[0m\u001b[0mlevel\u001b[0m\u001b[0;34m,\u001b[0m \u001b[0merrors\u001b[0m\u001b[0;34m=\u001b[0m\u001b[0merrors\u001b[0m\u001b[0;34m)\u001b[0m\u001b[0;34m\u001b[0m\u001b[0;34m\u001b[0m\u001b[0m\n\u001b[1;32m   3920\u001b[0m             \u001b[0;32melse\u001b[0m\u001b[0;34m:\u001b[0m\u001b[0;34m\u001b[0m\u001b[0;34m\u001b[0m\u001b[0m\n\u001b[0;32m-> 3921\u001b[0;31m                 \u001b[0mnew_axis\u001b[0m \u001b[0;34m=\u001b[0m \u001b[0maxis\u001b[0m\u001b[0;34m.\u001b[0m\u001b[0mdrop\u001b[0m\u001b[0;34m(\u001b[0m\u001b[0mlabels\u001b[0m\u001b[0;34m,\u001b[0m \u001b[0merrors\u001b[0m\u001b[0;34m=\u001b[0m\u001b[0merrors\u001b[0m\u001b[0;34m)\u001b[0m\u001b[0;34m\u001b[0m\u001b[0;34m\u001b[0m\u001b[0m\n\u001b[0m\u001b[1;32m   3922\u001b[0m             \u001b[0mresult\u001b[0m \u001b[0;34m=\u001b[0m \u001b[0mself\u001b[0m\u001b[0;34m.\u001b[0m\u001b[0mreindex\u001b[0m\u001b[0;34m(\u001b[0m\u001b[0;34m**\u001b[0m\u001b[0;34m{\u001b[0m\u001b[0maxis_name\u001b[0m\u001b[0;34m:\u001b[0m \u001b[0mnew_axis\u001b[0m\u001b[0;34m}\u001b[0m\u001b[0;34m)\u001b[0m\u001b[0;34m\u001b[0m\u001b[0;34m\u001b[0m\u001b[0m\n\u001b[1;32m   3923\u001b[0m \u001b[0;34m\u001b[0m\u001b[0m\n",
            "\u001b[0;32m/usr/local/lib/python3.6/dist-packages/pandas/core/indexes/base.py\u001b[0m in \u001b[0;36mdrop\u001b[0;34m(self, labels, errors)\u001b[0m\n\u001b[1;32m   5282\u001b[0m         \u001b[0;32mif\u001b[0m \u001b[0mmask\u001b[0m\u001b[0;34m.\u001b[0m\u001b[0many\u001b[0m\u001b[0;34m(\u001b[0m\u001b[0;34m)\u001b[0m\u001b[0;34m:\u001b[0m\u001b[0;34m\u001b[0m\u001b[0;34m\u001b[0m\u001b[0m\n\u001b[1;32m   5283\u001b[0m             \u001b[0;32mif\u001b[0m \u001b[0merrors\u001b[0m \u001b[0;34m!=\u001b[0m \u001b[0;34m\"ignore\"\u001b[0m\u001b[0;34m:\u001b[0m\u001b[0;34m\u001b[0m\u001b[0;34m\u001b[0m\u001b[0m\n\u001b[0;32m-> 5284\u001b[0;31m                 \u001b[0;32mraise\u001b[0m \u001b[0mKeyError\u001b[0m\u001b[0;34m(\u001b[0m\u001b[0;34mf\"{labels[mask]} not found in axis\"\u001b[0m\u001b[0;34m)\u001b[0m\u001b[0;34m\u001b[0m\u001b[0;34m\u001b[0m\u001b[0m\n\u001b[0m\u001b[1;32m   5285\u001b[0m             \u001b[0mindexer\u001b[0m \u001b[0;34m=\u001b[0m \u001b[0mindexer\u001b[0m\u001b[0;34m[\u001b[0m\u001b[0;34m~\u001b[0m\u001b[0mmask\u001b[0m\u001b[0;34m]\u001b[0m\u001b[0;34m\u001b[0m\u001b[0;34m\u001b[0m\u001b[0m\n\u001b[1;32m   5286\u001b[0m         \u001b[0;32mreturn\u001b[0m \u001b[0mself\u001b[0m\u001b[0;34m.\u001b[0m\u001b[0mdelete\u001b[0m\u001b[0;34m(\u001b[0m\u001b[0mindexer\u001b[0m\u001b[0;34m)\u001b[0m\u001b[0;34m\u001b[0m\u001b[0;34m\u001b[0m\u001b[0m\n",
            "\u001b[0;31mKeyError\u001b[0m: \"['trending_date' 'video_id' 'title' 'channel_title' 'publish_time' 'tags'\\n 'thumbnail_link' 'comments_disabled' 'ratings_disabled'\\n 'video_error_or_removed' 'description'] not found in axis\""
          ]
        }
      ]
    },
    {
      "cell_type": "code",
      "metadata": {
        "id": "sZZp_ImqgPxQ"
      },
      "source": [
        "x = df1.drop(['views'], axis = 'columns')\n",
        "y = df1[\"dislikes\"]\n",
        "x_train, x_test, y_train, y_test = train_test_split(x, y, test_size = 0.5, random_state = 33)"
      ],
      "execution_count": null,
      "outputs": []
    },
    {
      "cell_type": "code",
      "metadata": {
        "id": "r_OMfugHgho8"
      },
      "source": [
        "rf_Model = RandomForestClassifier()"
      ],
      "execution_count": null,
      "outputs": []
    },
    {
      "cell_type": "code",
      "metadata": {
        "id": "TLLBvVGogr7l"
      },
      "source": [
        "rf_Model.fit(x_train, y_train)"
      ],
      "execution_count": null,
      "outputs": []
    },
    {
      "cell_type": "code",
      "metadata": {
        "id": "_4Qcowkig656"
      },
      "source": [
        "rf_Model.oob_score_"
      ],
      "execution_count": null,
      "outputs": []
    },
    {
      "cell_type": "code",
      "metadata": {
        "id": "FUQbk7R8hDBk"
      },
      "source": [
        "print(f'Train Accuracy - : {rf_Model.score(x_train, y_train): . 3f}')\n",
        "print(f'Test Accuracy - : {rf_Model.score(x_test, y_test): . 3f}')"
      ],
      "execution_count": null,
      "outputs": []
    },
    {
      "cell_type": "code",
      "metadata": {
        "id": "puFN6ZO1Di-m"
      },
      "source": [
        "!nvidia-smi"
      ],
      "execution_count": null,
      "outputs": []
    },
    {
      "cell_type": "markdown",
      "metadata": {
        "id": "Rvz9HGTt6gdh"
      },
      "source": [
        "other statistical findings"
      ]
    },
    {
      "cell_type": "code",
      "metadata": {
        "id": "TR08BvgWS8pB"
      },
      "source": [
        "average views per video"
      ],
      "execution_count": null,
      "outputs": []
    },
    {
      "cell_type": "code",
      "metadata": {
        "scrolled": false,
        "id": "rdxJW5llhXit",
        "colab": {
          "base_uri": "https://localhost:8080/"
        },
        "outputId": "cd9617d1-de2d-4889-d7af-894b64d1c9cc"
      },
      "source": [
        "#average view per trending video\n",
        "average = sum(df[\"views\"]) / len(df[\"views\"])\n",
        "\n",
        "print(\"The average view per trending video is\",str(round(average,2)))"
      ],
      "execution_count": null,
      "outputs": [
        {
          "output_type": "stream",
          "text": [
            "The average view per trending video is 2360784.64\n"
          ],
          "name": "stdout"
        }
      ]
    },
    {
      "cell_type": "code",
      "metadata": {
        "id": "cUdJG__L7lKB",
        "colab": {
          "base_uri": "https://localhost:8080/"
        },
        "outputId": "0eda1b0f-68ac-4d7a-937d-5f24b02f0e79"
      },
      "source": [
        "#min max for views\n",
        "views_lst = []\n",
        "for views in df[\"views\"]:\n",
        "  views_lst.append(views)\n",
        "\n",
        "print(min(views_lst))\n",
        "print(max(views_lst))"
      ],
      "execution_count": null,
      "outputs": [
        {
          "output_type": "stream",
          "text": [
            "549\n",
            "225211923\n"
          ],
          "name": "stdout"
        }
      ]
    },
    {
      "cell_type": "markdown",
      "metadata": {
        "id": "Gp9Bg9sMTAwu"
      },
      "source": [
        "How long does it take for a video to trend"
      ]
    },
    {
      "cell_type": "code",
      "metadata": {
        "scrolled": true,
        "id": "5omiYTs6hXi5",
        "colab": {
          "base_uri": "https://localhost:8080/"
        },
        "outputId": "e248e8bd-b9db-4e56-d506-97b47ca942c4"
      },
      "source": [
        "#how long does it take for a video to trend on average\n",
        "print(date_obj2 - date_obj)"
      ],
      "execution_count": null,
      "outputs": [
        {
          "output_type": "stream",
          "text": [
            "28 days, 0:00:00\n"
          ],
          "name": "stdout"
        }
      ]
    },
    {
      "cell_type": "markdown",
      "metadata": {
        "id": "9X5BtpA-TIeC"
      },
      "source": [
        "Most common tags"
      ]
    },
    {
      "cell_type": "code",
      "metadata": {
        "id": "qnxyMa2vm9EF",
        "colab": {
          "base_uri": "https://localhost:8080/"
        },
        "outputId": "da11c7b9-2723-4fdb-b5fd-acf5d63037dd"
      },
      "source": [
        "#find 10 most common tags\n",
        "from collections import Counter\n",
        "tag_lst = []\n",
        "\n",
        "for tags in df[\"tags\"]:\n",
        "  tag_lst.append(tags)\n",
        "\n",
        "c = Counter(tag_lst)\n",
        "c.most_common(10)\n",
        "\n",
        "  \n",
        "  \n"
      ],
      "execution_count": null,
      "outputs": [
        {
          "output_type": "execute_result",
          "data": {
            "text/plain": [
              "[('[none]', 1535),\n",
              " ('ABC|\"americanidol\"|\"idol\"|\"american idol\"|\"ryan\"|\"seacrest\"|\"ryan seacrest\"|\"katy\"|\"perry\"|\"katy perry\"|\"luke\"|\"bryan\"|\"luke bryan\"|\"lionel\"|\"richie\"|\"lionel richie\"|\"season 16\"|\"american idol XVI\"|\"television\"|\"ad\"|\"spring\"|\"2018\"|\"music\"|\"reality\"|\"competition\"|\"song\"|\"sing\"|\"audition\"|\"auditions\"|\"performance\"|\"live\"|\"fox\"|\"AI\"|\"hollywood\"|\"contestant\"|\"official\"|\"american\"|\"official american idol\"|\"hollywood week\"|\"hometown audition\"',\n",
              "  87),\n",
              " ('Jacksfilms|\"Jack Douglass\"|\"YGS\"|\"YGS 100\"|\"YGS 50\"|\"The Best of Your Grammar Sucks\"|\"Your Grammar Sucks\"|\"YIAY\"|\"Yesterday I Asked You\"|\"Fidget Spinners\"|\"Emoji Movie\"|\"Kermit Sings\"|\"JackAsk\"|\"Jack Ask\"|\"Dubstep Solves Everything\"|\"Frozen 2\"|\"iPhone Parody\"|\"Apple Parody\"',\n",
              "  80),\n",
              " ('James Corden|\"The Late Late Show\"|\"Colbert\"|\"late night\"|\"late night show\"|\"Stephen Colbert\"|\"Comedy\"|\"monologue\"|\"comedian\"|\"impressions\"|\"celebrities\"|\"carpool\"|\"karaoke\"|\"CBS\"|\"Late Late Show\"|\"Corden\"|\"joke\"|\"jokes\"|\"funny\"|\"funny video\"|\"funny videos\"|\"humor\"|\"celebrity\"|\"celeb\"|\"hollywood\"|\"famous\"',\n",
              "  71),\n",
              " ('The Late Show|\"Stephen Colbert\"|\"Colbert\"|\"Late Show\"|\"celebrities\"|\"late night\"|\"talk show\"|\"skits\"|\"bit\"|\"monologue\"|\"The Late Late Show\"|\"Late Late Show\"|\"letterman\"|\"david letterman\"|\"comedian\"|\"impressions\"|\"CBS\"|\"joke\"|\"jokes\"|\"funny\"|\"funny video\"|\"funny videos\"|\"humor\"|\"celebrity\"|\"celeb\"|\"hollywood\"|\"famous\"|\"James Corden\"|\"Corden\"|\"Comedy\"',\n",
              "  66),\n",
              " ('BIGHIT|\"빅히트\"|\"방탄소년단\"|\"BTS\"|\"BANGTAN\"|\"방탄\"', 54),\n",
              " ('Super Slow Show|\"Slow Motion\"|\"4K\"|\"Explosion\"|\"Slo Mo Guys\"|\"Tony Hawk\"|\"Kevin Durant\"|\"Gav & Dan\"',\n",
              "  50),\n",
              " ('Viral|\"Video\"|\"Epic\"', 46),\n",
              " ('best vines 2018|\"funny vines\"|\"funny videos\"|\"funniest videos 2018\"', 46),\n",
              " ('Pentatonix|\"Penatonix\"|\"PTX\"|\"PTXofficial\"|\"Mitch Grassi\"|\"Kirstie Maldonado\"|\"Scott Hoying\"|\"Avi Kaplan\"|\"Kevin\"|\"Olusola\"|\"K-O.\"|\"Cello\"|\"Cellobox\"|\"Beatbox\"|\"A Cappella\"|\"Harmony\"|\"Acapella\"|\"Acappela\"|\"Choir\"|\"Singing Competition\"|\"The Sing-Off\"|\"Sing-Off\"|\"Reality TV\"|\"Sing\"|\"Singing\"|\"Chorus\"|\"Sara Bareilles\"|\"Shawn Stockman\"|\"Ben Folds\"|\"Ben Folds 5\"|\"American Idol\"|\"X-Factor\"|\"The Voice\"|\"Voice\"|\"Pitch Perfect\"',\n",
              "  43)]"
            ]
          },
          "metadata": {
            "tags": []
          },
          "execution_count": 7
        }
      ]
    },
    {
      "cell_type": "markdown",
      "metadata": {
        "id": "zM6w54IgT08p"
      },
      "source": [
        "Most Common Category Ids"
      ]
    },
    {
      "cell_type": "markdown",
      "metadata": {
        "id": "aRnMRtqS8PYi"
      },
      "source": [
        "Cateogry Id List:\n",
        "\n",
        "2 - Autos & Vehicles\n",
        "1 -  Film & Animation\n",
        "10 - Music\n",
        "15 - Pets & Animals\n",
        "17 - Sports\n",
        "18 - Short Movies\n",
        "19 - Travel & Events\n",
        "20 - Gaming\n",
        "21 - Videoblogging\n",
        "22 - People & Blogs\n",
        "23 - Comedy\n",
        "24 - Entertainment\n",
        "25 - News & Politics\n",
        "26 - Howto & Style\n",
        "27 - Education\n",
        "28 - Science & Technology\n",
        "29 - Nonprofits & Activism\n",
        "30 - Movies\n",
        "31 - Anime/Animation\n",
        "32 - Action/Adventure\n",
        "33 - Classics\n",
        "34 - Comedy\n",
        "35 - Documentary\n",
        "36 - Drama\n",
        "37 - Family\n",
        "38 - Foreign\n",
        "39 - Horror\n",
        "40 - Sci-Fi/Fantasy\n",
        "41 - Thriller\n",
        "42 - Shorts\n",
        "43 - Shows\n",
        "44 - Trailers"
      ]
    },
    {
      "cell_type": "code",
      "metadata": {
        "id": "g5Euj1vy7Klu"
      },
      "source": [
        "#category id\n",
        "category_lst = []\n",
        "for category in df[\"category_id\"]:\n",
        "  category_lst.append(category)\n",
        "\n",
        "c = Counter(category_lst)\n",
        "c.most_common(10)"
      ],
      "execution_count": null,
      "outputs": []
    },
    {
      "cell_type": "markdown",
      "metadata": {
        "id": "yV8_WKVc8pN2"
      },
      "source": [
        "Most Common Categories that trend are: Entertainment, Music, Howto & Style, Comedy, People & Blogs"
      ]
    },
    {
      "cell_type": "markdown",
      "metadata": {
        "id": "Y9BILMkUHckA"
      },
      "source": [
        "Total Likes:Dislikes"
      ]
    },
    {
      "cell_type": "code",
      "metadata": {
        "id": "f1hquIioHV_X"
      },
      "source": [
        "#likes\n",
        "\n",
        "likes_lst = []\n",
        "for likes in df[\"likes\"]:\n",
        "  likes_lst.append(likes)\n",
        "\n",
        "likes_total = 0\n",
        "for l in range(0, len(likes_lst)):\n",
        "  likes_total = likes_total + likes_lst[l]\n",
        "\n",
        "print(likes_total)\n",
        "\n",
        "#dislikes\n",
        "\n",
        "dislikes_lst = []\n",
        "for dislikes in df['dislikes']:\n",
        "  dislikes_lst.append(dislikes)\n",
        "\n",
        "dislikes_total = 0\n",
        "for d in range(0, len(dislikes_lst)):\n",
        "  dislikes_total = dislikes_total + dislikes_lst[d]\n",
        "\n",
        "print(dislikes_total)\n",
        "\n",
        "#ratio\n",
        "\n",
        "print(\"Total likes to dislikes ratio is 20:1 or\",likes_total/dislikes_total)"
      ],
      "execution_count": null,
      "outputs": []
    },
    {
      "cell_type": "markdown",
      "metadata": {
        "id": "rwBA-1Zs5Tkt"
      },
      "source": [
        "Min/Max for likes/dislikes"
      ]
    },
    {
      "cell_type": "code",
      "metadata": {
        "id": "fgFDiT7m5Wsi"
      },
      "source": [
        "print(max(likes_lst))\n",
        "print(min(likes_lst))\n",
        "print(max(dislikes_lst))\n",
        "print(min(dislikes_lst))"
      ],
      "execution_count": null,
      "outputs": []
    },
    {
      "cell_type": "code",
      "metadata": {
        "id": "PQr-4w76Uack"
      },
      "source": [
        "#ratings disabled\n",
        "\n",
        "df[\"ratings_disabled\"].value_counts()\n",
        "\n"
      ],
      "execution_count": null,
      "outputs": []
    },
    {
      "cell_type": "code",
      "metadata": {
        "id": "Waob6la3XIk3"
      },
      "source": [
        "#comments_disabled count\n",
        "df[\"comments_disabled\"].value_counts()"
      ],
      "execution_count": null,
      "outputs": []
    },
    {
      "cell_type": "code",
      "metadata": {
        "id": "OXIrR9flXI59"
      },
      "source": [
        "#percentages\n",
        "ratingsdisabled = 40780/40948\n",
        "commentsdisabled = 40316/40948\n",
        "\n",
        "print(ratingsdisabled)\n",
        "print(commentsdisabled)"
      ],
      "execution_count": null,
      "outputs": []
    },
    {
      "cell_type": "markdown",
      "metadata": {
        "id": "JffZc1QPxLTH"
      },
      "source": [
        "descriptions that are empty"
      ]
    },
    {
      "cell_type": "code",
      "metadata": {
        "id": "e3WNwFJKxQk4"
      },
      "source": [
        "\n",
        "570/40948\n",
        "\n",
        "\n"
      ],
      "execution_count": null,
      "outputs": []
    },
    {
      "cell_type": "markdown",
      "metadata": {
        "id": "HWF0LCUSx_aQ"
      },
      "source": [
        "checking if certain channels are more likely to trend"
      ]
    },
    {
      "cell_type": "code",
      "metadata": {
        "id": "XgDJp9kRyEKN"
      },
      "source": [
        "#channel count\n",
        "channel_lst = []\n",
        "\n",
        "for channel in df[\"channel_title\"]:\n",
        "  channel_lst.append(channel)\n",
        "\n",
        "c = Counter(channel_lst)\n",
        "c.most_common(10)"
      ],
      "execution_count": null,
      "outputs": []
    },
    {
      "cell_type": "markdown",
      "metadata": {
        "id": "oQTf6GS_1zqw"
      },
      "source": [
        "checking text within titles to see if there are bias words"
      ]
    },
    {
      "cell_type": "code",
      "metadata": {
        "id": "ASKYqk_r13k_"
      },
      "source": [
        "title_lst = []\n",
        "\n",
        "for i in df[\"title\"]:\n",
        "  title_lst.append(i)\n",
        "\n",
        "c = Counter(title_lst)\n",
        "c.most_common(20)"
      ],
      "execution_count": null,
      "outputs": []
    },
    {
      "cell_type": "code",
      "metadata": {
        "id": "9kLrF3dk3_aX",
        "colab": {
          "base_uri": "https://localhost:8080/"
        },
        "outputId": "50f324c0-e064-44d4-d343-0109ec944537"
      },
      "source": [
        "\n",
        "print(\"The average trending video takes 28 days to trend therfore on average a video would need to have\", 2000000/28, \"views per day\")"
      ],
      "execution_count": null,
      "outputs": [
        {
          "output_type": "stream",
          "text": [
            "The average trending video takes 28 days to trend therfore on average a video would need to have 71428.57142857143 views per day\n"
          ],
          "name": "stdout"
        }
      ]
    },
    {
      "cell_type": "markdown",
      "metadata": {
        "id": "7Kp-tlaA3x84"
      },
      "source": [
        "average criterions for a trending video:\n",
        "\n",
        "2+ million views\n",
        "\n",
        "28 days to trend\n",
        "\n",
        "Besides \"None\" enterainment, famous people, and comedy are the most popular tags\n",
        "\n",
        "Most Common Categories that trend are: Entertainment, Music, Howto & Style, Comedy, People & Blogs\n",
        "\n",
        "20:1 likes to dislikes ratio\n",
        "\n",
        "certain channels such as ESPN, The Tonight Show Starring Jimmy Fallon, and Vox are more likely/consitently reach the trending section\n",
        "\n",
        "Almost all videos that trend enable comments and ratings(likes/dislikes)\n",
        "\n"
      ]
    },
    {
      "cell_type": "markdown",
      "metadata": {
        "id": "YJ79SvY8LNP8"
      },
      "source": [
        "Create filters to go through records in datasheet to find videos that are within a set criterion"
      ]
    },
    {
      "cell_type": "code",
      "metadata": {
        "id": "2TX-oZ_q5Oo7"
      },
      "source": [
        "def video_predictor(num):\n",
        "  \n"
      ],
      "execution_count": null,
      "outputs": []
    }
  ]
}