{
  "nbformat": 4,
  "nbformat_minor": 0,
  "metadata": {
    "kernelspec": {
      "display_name": "Python 3",
      "language": "python",
      "name": "python3"
    },
    "language_info": {
      "codemirror_mode": {
        "name": "ipython",
        "version": 3
      },
      "file_extension": ".py",
      "mimetype": "text/x-python",
      "name": "python",
      "nbconvert_exporter": "python",
      "pygments_lexer": "ipython3",
      "version": "3.7.6"
    },
    "colab": {
      "name": "youtubeanalysis.ipynb",
      "provenance": [],
      "collapsed_sections": []
    }
  },
  "cells": [
    {
      "cell_type": "code",
      "metadata": {
        "id": "r0fd-lYg0vn8"
      },
      "source": [
        "#check if python is installed\n",
        "try:\n",
        "  !python --version\n",
        "except:\n",
        "  print(\"It does not look like python is installed\")"
      ],
      "execution_count": null,
      "outputs": []
    },
    {
      "cell_type": "markdown",
      "metadata": {
        "id": "6JPh0sjD062U"
      },
      "source": [
        "Importing Data"
      ]
    },
    {
      "cell_type": "code",
      "metadata": {
        "id": "OXTU2i2foc4-"
      },
      "source": [
        "pip install cloudmesh-common -U"
      ],
      "execution_count": null,
      "outputs": []
    },
    {
      "cell_type": "code",
      "metadata": {
        "scrolled": true,
        "id": "wCZPQNdHhXip"
      },
      "source": [
        "#set up enviroment\n",
        "from cloudmesh.common.StopWatch import StopWatch\n",
        "from collections import Counter\n",
        "import pandas as pd\n",
        "import datetime\n",
        "import matplotlib.pyplot as plt\n",
        "from sklearn.tree import DecisionTreeRegressor\n",
        "from sklearn.ensemble import RandomForestRegressor\n",
        "from sklearn.model_selection import train_test_split\n",
        "from sklearn.metrics import explained_variance_score\n",
        "import seaborn as sns"
      ],
      "execution_count": null,
      "outputs": []
    },
    {
      "cell_type": "code",
      "metadata": {
        "id": "3ZzJw_lGoj6m"
      },
      "source": [
        "#load file\n",
        "StopWatch.start(\"Code Execution\")\n",
        "StopWatch.start(\"Loading Dataset\")\n",
        "df =pd.read_csv(\"https://raw.githubusercontent.com/cybertraining-dsc/fa20-523-327/main/project/dataset/USvideos.csv\")\n",
        "StopWatch.stop(\"Loading Dataset\")\n",
        "StopWatch.status(\"Loading Dataset\", True)"
      ],
      "execution_count": null,
      "outputs": []
    },
    {
      "cell_type": "markdown",
      "metadata": {
        "id": "Q0HQFAwArL6s"
      },
      "source": [
        "Familiarize Myself with The Data"
      ]
    },
    {
      "cell_type": "code",
      "metadata": {
        "id": "yoopHPxhqz0B"
      },
      "source": [
        "StopWatch.start(\"Data Preparation\")\n",
        "df.info()\n",
        "print(\"\")\n",
        "print(\"Shape: \", df.shape)"
      ],
      "execution_count": null,
      "outputs": []
    },
    {
      "cell_type": "code",
      "metadata": {
        "id": "3HsBya1VrrCg"
      },
      "source": [
        "#Check for null values\n",
        "null = df.isna().sum()\n",
        "for key in null.keys():\n",
        "    if(null[key] > 0):\n",
        "        print(key,\":\",null[key])"
      ],
      "execution_count": null,
      "outputs": []
    },
    {
      "cell_type": "markdown",
      "metadata": {
        "id": "Hw86cfbzFVDj"
      },
      "source": [
        "Data Preprocessing"
      ]
    },
    {
      "cell_type": "code",
      "metadata": {
        "id": "J6G3yOrzGbKf"
      },
      "source": [
        "#check random tags for relevance\n",
        "df.sample(n = 3)"
      ],
      "execution_count": null,
      "outputs": []
    },
    {
      "cell_type": "code",
      "metadata": {
        "id": "hmQ4QaXgZL2d"
      },
      "source": [
        "#turn boolean labels into 1/0\n",
        "df[\"comments_disabled\"] = df[\"comments_disabled\"].astype(int)\n",
        "df[\"ratings_disabled\"] = df[\"ratings_disabled\"].astype(int)\n",
        "df[\"video_error_or_removed\"] = df[\"video_error_or_removed\"].astype(int)"
      ],
      "execution_count": null,
      "outputs": []
    },
    {
      "cell_type": "markdown",
      "metadata": {
        "id": "ke3xEdsntgSi"
      },
      "source": [
        "separate dates into respective columns"
      ]
    },
    {
      "cell_type": "code",
      "metadata": {
        "id": "_LsXKd3WhXix"
      },
      "source": [
        "#clean publish and date\n",
        "df['publish_time'] = pd.to_datetime(df[\"publish_time\"], format = '%Y-%m-%d')\n",
        "df['trending_date'] = pd.to_datetime(df[\"trending_date\"], format = '%y.%d.%m')"
      ],
      "execution_count": null,
      "outputs": []
    },
    {
      "cell_type": "code",
      "metadata": {
        "id": "isD5LvBUtf_f"
      },
      "source": [
        "#create new columns\n",
        "df['td_month'] = df['trending_date'].dt.month\n",
        "df['td_day'] = df['trending_date'].dt.day\n",
        "df['td_year'] = df['trending_date'].dt.year\n",
        "df['p_month'] = df['publish_time'].dt.month\n",
        "df['p_day'] = df['publish_time'].dt.day\n",
        "df['p_year'] = df['publish_time'].dt.year\n",
        "StopWatch.stop(\"Data Preparation\")\n",
        "StopWatch.status(\"Data Preparation\", True)"
      ],
      "execution_count": null,
      "outputs": []
    },
    {
      "cell_type": "markdown",
      "metadata": {
        "id": "afMWn3a1FAOB"
      },
      "source": [
        "Pearson's Correlation Graph"
      ]
    },
    {
      "cell_type": "code",
      "metadata": {
        "id": "Da0DNeuUR6HA"
      },
      "source": [
        "plt.figure(figsize=(12,10))\n",
        "cor = df.corr()\n",
        "sns.heatmap(cor, annot = True, cmap = plt.cm.Reds)\n",
        "plt.show()"
      ],
      "execution_count": null,
      "outputs": []
    },
    {
      "cell_type": "code",
      "metadata": {
        "id": "hx6XGW_QMCkT"
      },
      "source": [
        "#Finding highly correlated features\n",
        "cor_target = abs(cor[\"views\"])\n",
        "relevant_features = cor_target[cor_target>0.1]\n",
        "relevant_features"
      ],
      "execution_count": null,
      "outputs": []
    },
    {
      "cell_type": "markdown",
      "metadata": {
        "id": "VN75HNG7UJPe"
      },
      "source": [
        "Model 1"
      ]
    },
    {
      "cell_type": "code",
      "metadata": {
        "id": "_CN0C7ALRfVj"
      },
      "source": [
        "#drop fields that cannot be ran through model or relevant\n",
        "StopWatch.start(\"Model 1\")\n",
        "x = df.drop(['trending_date','video_id', 'title', 'channel_title', 'publish_time', 'tags',\n",
        "             'thumbnail_link', 'description', 'comments_disabled', \n",
        "              'ratings_disabled', 'video_error_or_removed', 'td_month',\n",
        "         'td_day', 'td_year', 'p_month', 'p_day', 'p_year'], axis = 'columns')"
      ],
      "execution_count": null,
      "outputs": []
    },
    {
      "cell_type": "code",
      "metadata": {
        "id": "lmKoH6WmRfgq"
      },
      "source": [
        "x = df[['category_id', 'likes', 'dislikes', 'comment_count']]\n",
        "y = df['views']\n",
        "x_train, x_test, y_train, y_test = train_test_split(x, y, test_size = 0.2, random_state = 33)"
      ],
      "execution_count": null,
      "outputs": []
    },
    {
      "cell_type": "code",
      "metadata": {
        "id": "tQTe2Smtbzf8"
      },
      "source": [
        "#decision tree\n",
        "DecisionTree_Class_Model = DecisionTreeRegressor()"
      ],
      "execution_count": null,
      "outputs": []
    },
    {
      "cell_type": "code",
      "metadata": {
        "id": "EfqkfBOIUw4h"
      },
      "source": [
        "DecisionTree_Class_Model.fit(x_train, y_train)"
      ],
      "execution_count": null,
      "outputs": []
    },
    {
      "cell_type": "code",
      "metadata": {
        "id": "kONKXy94UxOq"
      },
      "source": [
        "y_pred = DecisionTree_Class_Model.predict(x_test)\n",
        "y_pred"
      ],
      "execution_count": null,
      "outputs": []
    },
    {
      "cell_type": "code",
      "metadata": {
        "id": "2e1SmTRsU1g0"
      },
      "source": [
        "explained_variance_score(y_test, y_pred)"
      ],
      "execution_count": null,
      "outputs": []
    },
    {
      "cell_type": "code",
      "metadata": {
        "id": "4tHBklEkVC3d"
      },
      "source": [
        "#random forest\n",
        "rf_Model = RandomForestRegressor()"
      ],
      "execution_count": null,
      "outputs": []
    },
    {
      "cell_type": "code",
      "metadata": {
        "id": "wFR94lJWVC8j"
      },
      "source": [
        "rf_Model.fit(x_train, y_train)"
      ],
      "execution_count": null,
      "outputs": []
    },
    {
      "cell_type": "code",
      "metadata": {
        "id": "pTRQqvkktocq"
      },
      "source": [
        "explained_variance_score(y_test, y_pred)"
      ],
      "execution_count": null,
      "outputs": []
    },
    {
      "cell_type": "code",
      "metadata": {
        "id": "gsYHTsZMWb_4"
      },
      "source": [
        "StopWatch.stop(\"Model 1\")\n",
        "StopWatch.status(\"Model 1\", True)"
      ],
      "execution_count": null,
      "outputs": []
    },
    {
      "cell_type": "markdown",
      "metadata": {
        "id": "bEx28P66RDNQ"
      },
      "source": [
        "Final Model"
      ]
    },
    {
      "cell_type": "code",
      "metadata": {
        "id": "EYCx7WJQbPk4"
      },
      "source": [
        "#drop fields that cannot be ran through model or relevant\n",
        "StopWatch.start(\"Final Model\")\n",
        "x1 = df.drop(['trending_date','video_id', 'title', 'channel_title', 'publish_time', 'tags',\n",
        "             'thumbnail_link', 'description'], axis = 'columns')"
      ],
      "execution_count": null,
      "outputs": []
    },
    {
      "cell_type": "code",
      "metadata": {
        "id": "qqlzJq2IaPuW"
      },
      "source": [
        "#final \n",
        "x1 = df[['category_id', 'likes', 'dislikes', 'comment_count', \n",
        "         'comments_disabled', 'ratings_disabled', 'video_error_or_removed', 'td_month',\n",
        "         'td_day', 'td_year', 'p_month', 'p_day', 'p_year']]\n",
        "y1 = df[\"views\"]\n",
        "x1_train, x1_test, y1_train, y1_test = train_test_split(x1, y1, test_size = 0.2, random_state = 68)"
      ],
      "execution_count": null,
      "outputs": []
    },
    {
      "cell_type": "code",
      "metadata": {
        "id": "GPLlz2KccKyi"
      },
      "source": [
        "DecisionTree_Class_Model.fit(x1_train, y1_train)"
      ],
      "execution_count": null,
      "outputs": []
    },
    {
      "cell_type": "code",
      "metadata": {
        "id": "ol80rrUBgCFg"
      },
      "source": [
        "y_pred1 = DecisionTree_Class_Model.predict(x1_test)\n",
        "y_pred1"
      ],
      "execution_count": null,
      "outputs": []
    },
    {
      "cell_type": "code",
      "metadata": {
        "id": "rusxZMIs9l7-"
      },
      "source": [
        "#evaulates model\n",
        "explained_variance_score(y1_test, y_pred1)"
      ],
      "execution_count": null,
      "outputs": []
    },
    {
      "cell_type": "code",
      "metadata": {
        "id": "rulrKx42HKzh"
      },
      "source": [
        "#predicted vs acutal values\n",
        "plt.figure(figsize = (12,10))\n",
        "av = sns.kdeplot(y1_test, color = \"g\", label = \"Actual Values\")\n",
        "sns.kdeplot(y_pred1, color = \"r\", label = \"Predicted Values\", ax = av)\n",
        "plt.title(\"Prediction of Views\")\n",
        "plt.legend()\n",
        "plt.show()\n",
        "plt.close()"
      ],
      "execution_count": null,
      "outputs": []
    },
    {
      "cell_type": "code",
      "metadata": {
        "id": "TLLBvVGogr7l"
      },
      "source": [
        "rf_Model.fit(x1_train, y1_train)"
      ],
      "execution_count": null,
      "outputs": []
    },
    {
      "cell_type": "code",
      "metadata": {
        "id": "q56qYhC6UkVZ"
      },
      "source": [
        "y_pred1 = rf_Model.predict(x1_test)\n",
        "y_pred1"
      ],
      "execution_count": null,
      "outputs": []
    },
    {
      "cell_type": "code",
      "metadata": {
        "id": "puFN6ZO1Di-m"
      },
      "source": [
        "explained_variance_score(y1_test, y_pred1)"
      ],
      "execution_count": null,
      "outputs": []
    },
    {
      "cell_type": "code",
      "metadata": {
        "id": "y5qkccywxZT9"
      },
      "source": [
        "StopWatch.stop(\"Final Model\")\n",
        "StopWatch.status(\"Final Model\", True)"
      ],
      "execution_count": null,
      "outputs": []
    },
    {
      "cell_type": "code",
      "metadata": {
        "id": "43n7u5TVlImL"
      },
      "source": [
        "plt.figure(figsize = (12,10))\n",
        "av = sns.kdeplot(y1_test, color = \"g\", label = \"Actual Values\")\n",
        "sns.kdeplot(y_pred1, color = \"r\", label = \"Predicted Values\", ax = av)\n",
        "plt.title(\"Prediction of Views\")\n",
        "plt.legend()\n",
        "plt.show()\n",
        "plt.close()"
      ],
      "execution_count": null,
      "outputs": []
    },
    {
      "cell_type": "markdown",
      "metadata": {
        "id": "_6S2Ev8NDfbZ"
      },
      "source": [
        "Insights"
      ]
    },
    {
      "cell_type": "code",
      "metadata": {
        "id": "b135pvR9rj3a"
      },
      "source": [
        "#plot each category\n",
        "sns.histplot(df[\"category_id\"])\n",
        "plt.title(\"Vidoes By Cateogry\")"
      ],
      "execution_count": null,
      "outputs": []
    },
    {
      "cell_type": "code",
      "metadata": {
        "id": "g5Euj1vy7Klu"
      },
      "source": [
        "#count of each category\n",
        "category_lst = []\n",
        "for category in df[\"category_id\"]:\n",
        "  category_lst.append(category)\n",
        "c = Counter(category_lst)\n",
        "c.most_common(10)"
      ],
      "execution_count": null,
      "outputs": []
    },
    {
      "cell_type": "code",
      "metadata": {
        "id": "V6MWq3MmDcEo"
      },
      "source": [
        "#which videos fall under the top 3 categories\r\n",
        "twofour = df[(df.category_id == 24)]\r\n",
        "twofour.head(3)"
      ],
      "execution_count": null,
      "outputs": []
    },
    {
      "cell_type": "code",
      "metadata": {
        "id": "rFPJwgozz5dI"
      },
      "source": [
        "ten = df[(df.category_id == 10)]\r\n",
        "ten.head(3)"
      ],
      "execution_count": null,
      "outputs": []
    },
    {
      "cell_type": "code",
      "metadata": {
        "id": "d0ghBCdrz5kC"
      },
      "source": [
        "twentysix = df[(df.category_id == 26)]\r\n",
        "twentysix.head(3)"
      ],
      "execution_count": null,
      "outputs": []
    },
    {
      "cell_type": "code",
      "metadata": {
        "id": "L1OVuvVB9y8N"
      },
      "source": [
        "#count of channels that trend\n",
        "channel_lst = []\n",
        "for channel in df[\"channel_title\"]:\n",
        "  channel_lst.append(channel)\n",
        "c = Counter(channel_lst)\n",
        "c.most_common(10)"
      ],
      "execution_count": null,
      "outputs": []
    },
    {
      "cell_type": "code",
      "metadata": {
        "id": "wSKu5jGs8_a3"
      },
      "source": [
        "uniquechannels = len(set(channel_lst))\r\n",
        "print(\"There are\", uniquechannels, \"unique channels that trended on Youtube\")"
      ],
      "execution_count": null,
      "outputs": []
    },
    {
      "cell_type": "code",
      "metadata": {
        "id": "WQMpgGTg8bLi"
      },
      "source": [
        "print(\"Average Number of Views: \", df['views'].mean())\r\n",
        "print(\"Average Number of Comments: \", df['comment_count'].mean())"
      ],
      "execution_count": null,
      "outputs": []
    },
    {
      "cell_type": "code",
      "metadata": {
        "id": "Sk7H0jMY9lT0"
      },
      "source": [
        "likes_lst = []\r\n",
        "for likes in df[\"likes\"]:\r\n",
        "  likes_lst.append(likes)\r\n",
        "\r\n",
        "likes_total = 0\r\n",
        "for l in range(0, len(likes_lst)):\r\n",
        "  likes_total = likes_total + likes_lst[l]\r\n",
        "\r\n",
        "print(likes_total)\r\n",
        "\r\n",
        "#dislikes\r\n",
        "\r\n",
        "dislikes_lst = []\r\n",
        "for dislikes in df['dislikes']:\r\n",
        "  dislikes_lst.append(dislikes)\r\n",
        "\r\n",
        "dislikes_total = 0\r\n",
        "for d in range(0, len(dislikes_lst)):\r\n",
        "  dislikes_total = dislikes_total + dislikes_lst[d]\r\n",
        "\r\n",
        "print(dislikes_total)\r\n",
        "\r\n",
        "#ratio\r\n",
        "\r\n",
        "print(\"Total likes to dislikes ratio is 20:1 or\",likes_total/dislikes_total)"
      ],
      "execution_count": null,
      "outputs": []
    },
    {
      "cell_type": "code",
      "metadata": {
        "id": "Hig0hsBoDAI5"
      },
      "source": [
        "#get random sample for comparison\r\n",
        "df.sample()"
      ],
      "execution_count": null,
      "outputs": []
    },
    {
      "cell_type": "code",
      "metadata": {
        "id": "d4rduAEotMcy"
      },
      "source": [
        "StopWatch.stop(\"Code Execution\")\n",
        "StopWatch.status(\"Code Execution\", True)\n",
        "StopWatch.benchmark()"
      ],
      "execution_count": null,
      "outputs": []
    }
  ]
}