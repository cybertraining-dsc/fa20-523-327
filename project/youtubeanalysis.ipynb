{
  "nbformat": 4,
  "nbformat_minor": 0,
  "metadata": {
    "kernelspec": {
      "display_name": "Python 3",
      "language": "python",
      "name": "python3"
    },
    "language_info": {
      "codemirror_mode": {
        "name": "ipython",
        "version": 3
      },
      "file_extension": ".py",
      "mimetype": "text/x-python",
      "name": "python",
      "nbconvert_exporter": "python",
      "pygments_lexer": "ipython3",
      "version": "3.7.6"
    },
    "colab": {
      "name": "youtubeanalysis.ipynb",
      "provenance": [],
      "collapsed_sections": []
    }
  },
  "cells": [
    {
      "cell_type": "code",
      "metadata": {
        "id": "r0fd-lYg0vn8"
      },
      "source": [
        "#check if python is installed\n",
        "try:\n",
        "  !python --version\n",
        "except:\n",
        "  print(\"It does not look like python is installed\")"
      ],
      "execution_count": null,
      "outputs": []
    },
    {
      "cell_type": "markdown",
      "metadata": {
        "id": "6JPh0sjD062U"
      },
      "source": [
        "Importing Data"
      ]
    },
    {
      "cell_type": "code",
      "metadata": {
        "id": "CAlRPiv5hXjD"
      },
      "source": [
        "#import from kaggle.json from local to drive\n",
        "!pip install -q kaggle\n",
        "from google.colab import files\n",
        "files.upload()"
      ],
      "execution_count": null,
      "outputs": []
    },
    {
      "cell_type": "code",
      "metadata": {
        "id": "Q7cJnQ0VhXjG"
      },
      "source": [
        "#make a kaggle folder\n",
        "!mkdir ~/.kaggle"
      ],
      "execution_count": null,
      "outputs": []
    },
    {
      "cell_type": "code",
      "metadata": {
        "id": "Bv5GZLW3lk-G"
      },
      "source": [
        "!cp kaggle.json ~/.kaggle/"
      ],
      "execution_count": null,
      "outputs": []
    },
    {
      "cell_type": "code",
      "metadata": {
        "id": "5-Q2RgFClm4s"
      },
      "source": [
        "! chmod 600 ~/.kaggle/kaggle.json"
      ],
      "execution_count": null,
      "outputs": []
    },
    {
      "cell_type": "code",
      "metadata": {
        "id": "F44WO-7elpcD"
      },
      "source": [
        "!kaggle datasets download -d datasnaek/youtube-new"
      ],
      "execution_count": null,
      "outputs": []
    },
    {
      "cell_type": "code",
      "metadata": {
        "scrolled": true,
        "id": "wCZPQNdHhXip"
      },
      "source": [
        "#import modules\n",
        "import pandas as pd\n",
        "import datetime\n",
        "import numpy as np\n",
        "import matplotlib.pyplot as plt\n",
        "from sklearn.datasets import load_iris\n",
        "from sklearn.tree import DecisionTreeClassifier\n",
        "from sklearn.ensemble import RandomForestClassifier\n",
        "from sklearn.model_selection import train_test_split\n",
        "from sklearn import tree\n",
        "\n",
        "\n",
        "\n",
        "#load file\n",
        "def load_csv(file):\n",
        "\tdf = pd.read_csv(file)\n",
        "\treturn df\n",
        "\n",
        "\n",
        "#main\n",
        "if __name__== \"__main__\":\n",
        "    data_file = \"USvideos.csv\"\n",
        "    df = load_csv(data_file)\n",
        "\n",
        "#get column headers\n",
        "for col in df:\n",
        "    print(col)\n",
        "\n",
        "#amonut of records in dataset\n",
        "print(len(df))\n"
      ],
      "execution_count": null,
      "outputs": []
    },
    {
      "cell_type": "code",
      "metadata": {
        "scrolled": false,
        "id": "rdxJW5llhXit"
      },
      "source": [
        "#average view per trending video\n",
        "average = sum(df[\"views\"]) / len(df[\"views\"])\n",
        "\n",
        "print(\"The average view per trending video is\",str(round(average,2)))"
      ],
      "execution_count": null,
      "outputs": []
    },
    {
      "cell_type": "code",
      "metadata": {
        "id": "_LsXKd3WhXix"
      },
      "source": [
        "#clean publish date\n",
        "#currently date is formatted 2017-11-13\n",
        "for time in df[\"publish_time\"]:\n",
        "    slicedtime = time[:10]\n",
        "    date_obj = datetime.datetime.strptime(slicedtime, \"%Y-%m-%d\")\n",
        "    print(date_obj)"
      ],
      "execution_count": null,
      "outputs": []
    },
    {
      "cell_type": "code",
      "metadata": {
        "scrolled": true,
        "id": "_mUGYBaghXi1"
      },
      "source": [
        "#clean trending date\n",
        "#currently date is formatted 17-14-11\n",
        "twenty = (\"20\")\n",
        "for date in df[\"trending_date\"]:\n",
        "    takeoutperiods = date.replace(\".\",\"-\")\n",
        "    dateformat = str(twenty + takeoutperiods)\n",
        "    date_obj2 = datetime.datetime.strptime(dateformat, \"%Y-%d-%m\")\n",
        "    print(date_obj)\n",
        "    "
      ],
      "execution_count": null,
      "outputs": []
    },
    {
      "cell_type": "code",
      "metadata": {
        "scrolled": true,
        "id": "5omiYTs6hXi5"
      },
      "source": [
        "#how long does it take for a video to trend\n",
        "date_obj - date_obj2"
      ],
      "execution_count": null,
      "outputs": []
    },
    {
      "cell_type": "code",
      "metadata": {
        "id": "RjcoXP2ClprF"
      },
      "source": [
        ""
      ],
      "execution_count": null,
      "outputs": []
    },
    {
      "cell_type": "code",
      "metadata": {
        "id": "FbpA49R7lrd5"
      },
      "source": [
        ""
      ],
      "execution_count": null,
      "outputs": []
    }
  ]
}