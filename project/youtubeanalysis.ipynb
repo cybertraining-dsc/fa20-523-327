{
  "nbformat": 4,
  "nbformat_minor": 0,
  "metadata": {
    "kernelspec": {
      "display_name": "Python 3",
      "language": "python",
      "name": "python3"
    },
    "language_info": {
      "codemirror_mode": {
        "name": "ipython",
        "version": 3
      },
      "file_extension": ".py",
      "mimetype": "text/x-python",
      "name": "python",
      "nbconvert_exporter": "python",
      "pygments_lexer": "ipython3",
      "version": "3.7.6"
    },
    "colab": {
      "name": "youtubeanalysis.ipynb",
      "provenance": [],
      "collapsed_sections": []
    }
  },
  "cells": [
    {
      "cell_type": "code",
      "metadata": {
        "id": "r0fd-lYg0vn8",
        "colab": {
          "base_uri": "https://localhost:8080/"
        },
        "outputId": "48aaa593-e4cc-4ab6-a948-4f153d986302"
      },
      "source": [
        "#check if python is installed\n",
        "try:\n",
        "  !python --version\n",
        "except:\n",
        "  print(\"It does not look like python is installed\")"
      ],
      "execution_count": null,
      "outputs": [
        {
          "output_type": "stream",
          "text": [
            "Python 3.6.9\n"
          ],
          "name": "stdout"
        }
      ]
    },
    {
      "cell_type": "markdown",
      "metadata": {
        "id": "6JPh0sjD062U"
      },
      "source": [
        "Importing Data"
      ]
    },
    {
      "cell_type": "code",
      "metadata": {
        "id": "OXTU2i2foc4-"
      },
      "source": [
        "pip install cloudmesh-common -U"
      ],
      "execution_count": null,
      "outputs": []
    },
    {
      "cell_type": "code",
      "metadata": {
        "scrolled": true,
        "id": "wCZPQNdHhXip"
      },
      "source": [
        "#set up enviroment\n",
        "from cloudmesh.common.StopWatch import StopWatch\n",
        "import pandas as pd\n",
        "import datetime\n",
        "import numpy as np\n",
        "import matplotlib.pyplot as plt\n",
        "from sklearn.tree import DecisionTreeRegressor\n",
        "from sklearn.ensemble import RandomForestRegressor\n",
        "from sklearn.model_selection import train_test_split\n",
        "from sklearn.ensemble import RandomForestRegressor\n",
        "from sklearn.datasets import make_classification\n",
        "from sklearn import metrics \n",
        "from sklearn.metrics import explained_variance_score\n",
        "import seaborn as sns"
      ],
      "execution_count": null,
      "outputs": []
    },
    {
      "cell_type": "code",
      "metadata": {
        "id": "3ZzJw_lGoj6m"
      },
      "source": [
        "#load file\n",
        "StopWatch.start(\"Code Execution\")\n",
        "StopWatch.start(\"Loading Dataset\")\n",
        "df =pd.read_csv(\"https://raw.githubusercontent.com/cybertraining-dsc/fa20-523-327/main/project/dataset/USvideos.csv\")\n",
        "StopWatch.stop(\"Loading Dataset\")\n",
        "StopWatch.status(\"Loading Dataset\", True)"
      ],
      "execution_count": null,
      "outputs": []
    },
    {
      "cell_type": "markdown",
      "metadata": {
        "id": "Q0HQFAwArL6s"
      },
      "source": [
        "familiarize myself with the data"
      ]
    },
    {
      "cell_type": "code",
      "metadata": {
        "id": "yoopHPxhqz0B"
      },
      "source": [
        "StopWatch.start(\"Data Preparation\")\n",
        "df.info()\n",
        "print(\"\")\n",
        "print(\"Shape: \", df.shape)"
      ],
      "execution_count": null,
      "outputs": []
    },
    {
      "cell_type": "code",
      "metadata": {
        "id": "3HsBya1VrrCg"
      },
      "source": [
        "#Check for null values\n",
        "null = df.isna().sum()\n",
        "\n",
        "for key in null.keys():\n",
        "    if(null[key] > 0):\n",
        "        print(key,\":\",null[key])"
      ],
      "execution_count": null,
      "outputs": []
    },
    {
      "cell_type": "code",
      "metadata": {
        "id": "hmQ4QaXgZL2d"
      },
      "source": [
        "#turn boolean labels into 1/0\n",
        "df[\"comments_disabled\"] = df[\"comments_disabled\"].astype(int)\n",
        "df[\"ratings_disabled\"] = df[\"ratings_disabled\"].astype(int)\n",
        "df[\"video_error_or_removed\"] = df[\"video_error_or_removed\"].astype(int)"
      ],
      "execution_count": null,
      "outputs": []
    },
    {
      "cell_type": "markdown",
      "metadata": {
        "id": "ke3xEdsntgSi"
      },
      "source": [
        "separate dates into respective columns"
      ]
    },
    {
      "cell_type": "code",
      "metadata": {
        "id": "_LsXKd3WhXix"
      },
      "source": [
        "#clean publish and date\n",
        "df['publish_time'] = pd.to_datetime(df[\"publish_time\"], format = '%Y-%m-%d')\n",
        "df['trending_date'] = pd.to_datetime(df[\"trending_date\"], format = '%y.%d.%m')"
      ],
      "execution_count": null,
      "outputs": []
    },
    {
      "cell_type": "code",
      "metadata": {
        "id": "isD5LvBUtf_f"
      },
      "source": [
        "#create new columns\n",
        "df['td_month'] = df['trending_date'].dt.month\n",
        "df['td_day'] = df['trending_date'].dt.day\n",
        "df['td_year'] = df['trending_date'].dt.year\n",
        "df['p_month'] = df['publish_time'].dt.month\n",
        "df['p_day'] = df['publish_time'].dt.day\n",
        "df['p_year'] = df['publish_time'].dt.year\n",
        "StopWatch.stop(\"Data Preparation\")\n",
        "StopWatch.status(\"Prepare Data\", True)"
      ],
      "execution_count": null,
      "outputs": []
    },
    {
      "cell_type": "markdown",
      "metadata": {
        "id": "VN75HNG7UJPe"
      },
      "source": [
        "decision tree"
      ]
    },
    {
      "cell_type": "code",
      "metadata": {
        "id": "EYCx7WJQbPk4"
      },
      "source": [
        "#drop fields that cannot be ran through model or relevant\n",
        "df = df.drop(['trending_date','video_id', 'title', 'channel_title', 'publish_time', 'tags',\n",
        "             'thumbnail_link', 'description'], axis = 'columns')"
      ],
      "execution_count": null,
      "outputs": []
    },
    {
      "cell_type": "code",
      "metadata": {
        "id": "qqlzJq2IaPuW"
      },
      "source": [
        "#test\n",
        "x = df[['category_id', 'likes', 'dislikes', 'comment_count', \n",
        "         'comments_disabled', 'ratings_disabled', 'video_error_or_removed', 'td_month',\n",
        "         'td_day', 'td_year', 'p_month', 'p_day', 'p_year']]\n",
        "y = df[\"views\"]\n",
        "x_train, x_test, y_train, y_test = train_test_split(x, y, test_size = 0.3, random_state = 33)"
      ],
      "execution_count": null,
      "outputs": []
    },
    {
      "cell_type": "code",
      "metadata": {
        "id": "tQTe2Smtbzf8"
      },
      "source": [
        "DecisionTree_Class_Model = DecisionTreeRegressor()"
      ],
      "execution_count": null,
      "outputs": []
    },
    {
      "cell_type": "code",
      "metadata": {
        "id": "GPLlz2KccKyi"
      },
      "source": [
        "DecisionTree_Class_Model.fit(x_train, y_train)"
      ],
      "execution_count": null,
      "outputs": []
    },
    {
      "cell_type": "code",
      "metadata": {
        "id": "ol80rrUBgCFg"
      },
      "source": [
        "y_pred = DecisionTree_Class_Model.predict(x_test)\n",
        "y_pred"
      ],
      "execution_count": null,
      "outputs": []
    },
    {
      "cell_type": "code",
      "metadata": {
        "id": "rusxZMIs9l7-"
      },
      "source": [
        "#evaulates model\n",
        "explained_variance_score(y_test, y_pred)"
      ],
      "execution_count": null,
      "outputs": []
    },
    {
      "cell_type": "code",
      "metadata": {
        "id": "9hQ9l9NTXkp8"
      },
      "source": [
        "#plot specific videos, show different trends\n",
        "#try to predict those videos\n",
        "#explain why it works/ doesn't work\n",
        "#try to look at videos through different categories\n",
        "#divide up dataset by categories \n",
        "#plot video count by time of each category for discussion"
      ],
      "execution_count": null,
      "outputs": []
    },
    {
      "cell_type": "code",
      "metadata": {
        "colab": {
          "base_uri": "https://localhost:8080/",
          "height": 706
        },
        "id": "Da0DNeuUR6HA",
        "outputId": "35e12770-f708-4deb-a9a5-8b50de9482f2"
      },
      "source": [
        "plt.figure(figsize=(12,10))\n",
        "cor = df.corr()\n",
        "sns.heatmap(cor, annot = True, cmap = plt.cm.Reds)\n",
        "plt.show()"
      ],
      "execution_count": null,
      "outputs": [
        {
          "output_type": "display_data",
          "data": {
            "image/png": "[encoded data removed]",
            "text/plain": [
              "<Figure size 864x720 with 2 Axes>"
            ]
          },
          "metadata": {
            "tags": [],
            "needs_background": "light"
          }
        }
      ]
    },
    {
      "cell_type": "markdown",
      "metadata": {
        "id": "lQ7Nmi9E-RfF"
      },
      "source": [
        "strong correlation between likes, dislikes, and comment count with views"
      ]
    },
    {
      "cell_type": "code",
      "metadata": {
        "id": "hx6XGW_QMCkT"
      },
      "source": [
        "#Selecting highly correlated features\n",
        "cor_target = abs(cor[\"views\"])\n",
        "relevant_features = cor_target[cor_target>0.1]\n",
        "relevant_features"
      ],
      "execution_count": null,
      "outputs": []
    },
    {
      "cell_type": "code",
      "metadata": {
        "id": "rulrKx42HKzh"
      },
      "source": [
        "#predicted vs acutal values\n",
        "plt.figure(figsize = (12,10))\n",
        "av = sns.kdeplot(y_test, color = \"g\", label = \"Actual Values\")\n",
        "sns.kdeplot(y_pred, color = \"r\", label = \"Predicted Values\", ax = av)\n",
        "plt.title(\"Prediction of Views\")\n",
        "plt.legend()\n",
        "plt.show()\n",
        "plt.close()"
      ],
      "execution_count": null,
      "outputs": []
    },
    {
      "cell_type": "markdown",
      "metadata": {
        "id": "7iiSelG-1WhF"
      },
      "source": [
        "random forest"
      ]
    },
    {
      "cell_type": "code",
      "metadata": {
        "id": "sZZp_ImqgPxQ"
      },
      "source": [
        "x_train, x_test, y_train, y_test = train_test_split(x, y, test_size = 0.3, random_state = 33)"
      ],
      "execution_count": null,
      "outputs": []
    },
    {
      "cell_type": "code",
      "metadata": {
        "id": "r_OMfugHgho8"
      },
      "source": [
        "rf_Model = RandomForestRegressor()"
      ],
      "execution_count": null,
      "outputs": []
    },
    {
      "cell_type": "code",
      "metadata": {
        "id": "TLLBvVGogr7l"
      },
      "source": [
        "rf_Model.fit(x_train, y_train)"
      ],
      "execution_count": null,
      "outputs": []
    },
    {
      "cell_type": "code",
      "metadata": {
        "id": "q56qYhC6UkVZ"
      },
      "source": [
        "y_pred = rf_Model.predict(x_test)\n",
        "y_pred"
      ],
      "execution_count": null,
      "outputs": []
    },
    {
      "cell_type": "code",
      "metadata": {
        "id": "puFN6ZO1Di-m"
      },
      "source": [
        "explained_variance_score(y_test, y_pred)"
      ],
      "execution_count": null,
      "outputs": []
    },
    {
      "cell_type": "code",
      "metadata": {
        "id": "0BYl-lvhTib4"
      },
      "source": [
        "#plotting random videos for comparison\n",
        "df = pd.read_csv(\"USvideos.csv\")\n",
        "ef = df.sample()\n",
        "print(ef)"
      ],
      "execution_count": null,
      "outputs": []
    },
    {
      "cell_type": "code",
      "metadata": {
        "id": "XYEs-AbDYdKc"
      },
      "source": [
        "views = ef[\"views\"]\n",
        "ef['publish_time'] = pd.to_datetime(ef[\"publish_time\"], format = '%Y-%m-%d')\n",
        "ef['trending_date'] = pd.to_datetime(ef[\"trending_date\"], format = '%y.%d.%m')\n",
        "publish_time = ef['publish_time']\n",
        "trending_date = ef['trending_date']"
      ],
      "execution_count": null,
      "outputs": []
    },
    {
      "cell_type": "code",
      "metadata": {
        "id": "UxS1Il1AbFA8"
      },
      "source": [
        "plt.plot(views)"
      ],
      "execution_count": null,
      "outputs": []
    },
    {
      "cell_type": "code",
      "metadata": {
        "id": "gm09BZEmWHsG"
      },
      "source": [
        "plt.figure(figsize = (12,10))\n",
        "sns.kdeplot(ef[\"views\"], ef[\"publish_time\"], color = \"g\", label = \"test video\")\n",
        "plt.title(\"Test Case\")\n",
        "plt.show()\n",
        "plt.close()"
      ],
      "execution_count": null,
      "outputs": []
    },
    {
      "cell_type": "code",
      "metadata": {
        "id": "d4rduAEotMcy"
      },
      "source": [
        "StopWatch.stop(\"Code Execution\")\n",
        "StopWatch.status(\"Code Execution\", True)\n",
        "StopWatch.benchmark()"
      ],
      "execution_count": null,
      "outputs": []
    },
    {
      "cell_type": "markdown",
      "metadata": {
        "id": "Rvz9HGTt6gdh"
      },
      "source": [
        "other statistical findings"
      ]
    },
    {
      "cell_type": "code",
      "metadata": {
        "id": "TR08BvgWS8pB"
      },
      "source": [
        "average views per video"
      ],
      "execution_count": null,
      "outputs": []
    },
    {
      "cell_type": "code",
      "metadata": {
        "scrolled": false,
        "id": "rdxJW5llhXit",
        "colab": {
          "base_uri": "https://localhost:8080/"
        },
        "outputId": "cd9617d1-de2d-4889-d7af-894b64d1c9cc"
      },
      "source": [
        "#average view per trending video\n",
        "average = sum(df[\"views\"]) / len(df[\"views\"])\n",
        "\n",
        "print(\"The average view per trending video is\",str(round(average,2)))"
      ],
      "execution_count": null,
      "outputs": [
        {
          "output_type": "stream",
          "text": [
            "The average view per trending video is 2360784.64\n"
          ],
          "name": "stdout"
        }
      ]
    },
    {
      "cell_type": "code",
      "metadata": {
        "id": "cUdJG__L7lKB",
        "colab": {
          "base_uri": "https://localhost:8080/"
        },
        "outputId": "0eda1b0f-68ac-4d7a-937d-5f24b02f0e79"
      },
      "source": [
        "#min max for views\n",
        "views_lst = []\n",
        "for views in df[\"views\"]:\n",
        "  views_lst.append(views)\n",
        "\n",
        "print(min(views_lst))\n",
        "print(max(views_lst))"
      ],
      "execution_count": null,
      "outputs": [
        {
          "output_type": "stream",
          "text": [
            "549\n",
            "225211923\n"
          ],
          "name": "stdout"
        }
      ]
    },
    {
      "cell_type": "markdown",
      "metadata": {
        "id": "Gp9Bg9sMTAwu"
      },
      "source": [
        "How long does it take for a video to trend"
      ]
    },
    {
      "cell_type": "markdown",
      "metadata": {
        "id": "9X5BtpA-TIeC"
      },
      "source": [
        "Most common tags"
      ]
    },
    {
      "cell_type": "code",
      "metadata": {
        "id": "qnxyMa2vm9EF",
        "colab": {
          "base_uri": "https://localhost:8080/"
        },
        "outputId": "da11c7b9-2723-4fdb-b5fd-acf5d63037dd"
      },
      "source": [
        "#find 10 most common tags\n",
        "from collections import Counter\n",
        "tag_lst = []\n",
        "\n",
        "for tags in df[\"tags\"]:\n",
        "  tag_lst.append(tags)\n",
        "\n",
        "c = Counter(tag_lst)\n",
        "c.most_common(10)\n",
        "\n",
        "  \n",
        "  \n"
      ],
      "execution_count": null,
      "outputs": [
        {
          "output_type": "execute_result",
          "data": {
            "text/plain": [
              "[('[none]', 1535),\n",
              " ('ABC|\"americanidol\"|\"idol\"|\"american idol\"|\"ryan\"|\"seacrest\"|\"ryan seacrest\"|\"katy\"|\"perry\"|\"katy perry\"|\"luke\"|\"bryan\"|\"luke bryan\"|\"lionel\"|\"richie\"|\"lionel richie\"|\"season 16\"|\"american idol XVI\"|\"television\"|\"ad\"|\"spring\"|\"2018\"|\"music\"|\"reality\"|\"competition\"|\"song\"|\"sing\"|\"audition\"|\"auditions\"|\"performance\"|\"live\"|\"fox\"|\"AI\"|\"hollywood\"|\"contestant\"|\"official\"|\"american\"|\"official american idol\"|\"hollywood week\"|\"hometown audition\"',\n",
              "  87),\n",
              " ('Jacksfilms|\"Jack Douglass\"|\"YGS\"|\"YGS 100\"|\"YGS 50\"|\"The Best of Your Grammar Sucks\"|\"Your Grammar Sucks\"|\"YIAY\"|\"Yesterday I Asked You\"|\"Fidget Spinners\"|\"Emoji Movie\"|\"Kermit Sings\"|\"JackAsk\"|\"Jack Ask\"|\"Dubstep Solves Everything\"|\"Frozen 2\"|\"iPhone Parody\"|\"Apple Parody\"',\n",
              "  80),\n",
              " ('James Corden|\"The Late Late Show\"|\"Colbert\"|\"late night\"|\"late night show\"|\"Stephen Colbert\"|\"Comedy\"|\"monologue\"|\"comedian\"|\"impressions\"|\"celebrities\"|\"carpool\"|\"karaoke\"|\"CBS\"|\"Late Late Show\"|\"Corden\"|\"joke\"|\"jokes\"|\"funny\"|\"funny video\"|\"funny videos\"|\"humor\"|\"celebrity\"|\"celeb\"|\"hollywood\"|\"famous\"',\n",
              "  71),\n",
              " ('The Late Show|\"Stephen Colbert\"|\"Colbert\"|\"Late Show\"|\"celebrities\"|\"late night\"|\"talk show\"|\"skits\"|\"bit\"|\"monologue\"|\"The Late Late Show\"|\"Late Late Show\"|\"letterman\"|\"david letterman\"|\"comedian\"|\"impressions\"|\"CBS\"|\"joke\"|\"jokes\"|\"funny\"|\"funny video\"|\"funny videos\"|\"humor\"|\"celebrity\"|\"celeb\"|\"hollywood\"|\"famous\"|\"James Corden\"|\"Corden\"|\"Comedy\"',\n",
              "  66),\n",
              " ('BIGHIT|\"빅히트\"|\"방탄소년단\"|\"BTS\"|\"BANGTAN\"|\"방탄\"', 54),\n",
              " ('Super Slow Show|\"Slow Motion\"|\"4K\"|\"Explosion\"|\"Slo Mo Guys\"|\"Tony Hawk\"|\"Kevin Durant\"|\"Gav & Dan\"',\n",
              "  50),\n",
              " ('Viral|\"Video\"|\"Epic\"', 46),\n",
              " ('best vines 2018|\"funny vines\"|\"funny videos\"|\"funniest videos 2018\"', 46),\n",
              " ('Pentatonix|\"Penatonix\"|\"PTX\"|\"PTXofficial\"|\"Mitch Grassi\"|\"Kirstie Maldonado\"|\"Scott Hoying\"|\"Avi Kaplan\"|\"Kevin\"|\"Olusola\"|\"K-O.\"|\"Cello\"|\"Cellobox\"|\"Beatbox\"|\"A Cappella\"|\"Harmony\"|\"Acapella\"|\"Acappela\"|\"Choir\"|\"Singing Competition\"|\"The Sing-Off\"|\"Sing-Off\"|\"Reality TV\"|\"Sing\"|\"Singing\"|\"Chorus\"|\"Sara Bareilles\"|\"Shawn Stockman\"|\"Ben Folds\"|\"Ben Folds 5\"|\"American Idol\"|\"X-Factor\"|\"The Voice\"|\"Voice\"|\"Pitch Perfect\"',\n",
              "  43)]"
            ]
          },
          "metadata": {
            "tags": []
          },
          "execution_count": 7
        }
      ]
    },
    {
      "cell_type": "markdown",
      "metadata": {
        "id": "zM6w54IgT08p"
      },
      "source": [
        "Most Common Category Ids"
      ]
    },
    {
      "cell_type": "markdown",
      "metadata": {
        "id": "aRnMRtqS8PYi"
      },
      "source": [
        "Cateogry Id List:\n",
        "\n",
        "2 - Autos & Vehicles\n",
        "1 -  Film & Animation\n",
        "10 - Music\n",
        "15 - Pets & Animals\n",
        "17 - Sports\n",
        "18 - Short Movies\n",
        "19 - Travel & Events\n",
        "20 - Gaming\n",
        "21 - Videoblogging\n",
        "22 - People & Blogs\n",
        "23 - Comedy\n",
        "24 - Entertainment\n",
        "25 - News & Politics\n",
        "26 - Howto & Style\n",
        "27 - Education\n",
        "28 - Science & Technology\n",
        "29 - Nonprofits & Activism\n",
        "30 - Movies\n",
        "31 - Anime/Animation\n",
        "32 - Action/Adventure\n",
        "33 - Classics\n",
        "34 - Comedy\n",
        "35 - Documentary\n",
        "36 - Drama\n",
        "37 - Family\n",
        "38 - Foreign\n",
        "39 - Horror\n",
        "40 - Sci-Fi/Fantasy\n",
        "41 - Thriller\n",
        "42 - Shorts\n",
        "43 - Shows\n",
        "44 - Trailers"
      ]
    },
    {
      "cell_type": "code",
      "metadata": {
        "id": "g5Euj1vy7Klu"
      },
      "source": [
        "#category id\n",
        "category_lst = []\n",
        "for category in df[\"category_id\"]:\n",
        "  category_lst.append(category)\n",
        "\n",
        "c = Counter(category_lst)\n",
        "c.most_common(10)"
      ],
      "execution_count": null,
      "outputs": []
    },
    {
      "cell_type": "markdown",
      "metadata": {
        "id": "yV8_WKVc8pN2"
      },
      "source": [
        "Most Common Categories that trend are: Entertainment, Music, Howto & Style, Comedy, People & Blogs"
      ]
    },
    {
      "cell_type": "markdown",
      "metadata": {
        "id": "Y9BILMkUHckA"
      },
      "source": [
        "Total Likes:Dislikes"
      ]
    },
    {
      "cell_type": "code",
      "metadata": {
        "id": "f1hquIioHV_X",
        "colab": {
          "base_uri": "https://localhost:8080/"
        },
        "outputId": "a97792d3-6f30-4dcc-c463-f339f0c05ca3"
      },
      "source": [
        "#likes\n",
        "\n",
        "likes_lst = []\n",
        "for likes in df[\"likes\"]:\n",
        "  likes_lst.append(likes)\n",
        "\n",
        "likes_total = 0\n",
        "for l in range(0, len(likes_lst)):\n",
        "  likes_total = likes_total + likes_lst[l]\n",
        "\n",
        "print(likes_total)\n",
        "\n",
        "#dislikes\n",
        "\n",
        "dislikes_lst = []\n",
        "for dislikes in df['dislikes']:\n",
        "  dislikes_lst.append(dislikes)\n",
        "\n",
        "dislikes_total = 0\n",
        "for d in range(0, len(dislikes_lst)):\n",
        "  dislikes_total = dislikes_total + dislikes_lst[d]\n",
        "\n",
        "print(dislikes_total)\n",
        "\n",
        "#ratio\n",
        "\n",
        "print(\"Total likes to dislikes ratio is 20:1 or\",likes_total/dislikes_total)"
      ],
      "execution_count": null,
      "outputs": [
        {
          "output_type": "stream",
          "text": [
            "3041147198\n",
            "151978155\n",
            "Total likes to dislikes ratio is 20:1 or 20.010423195359884\n"
          ],
          "name": "stdout"
        }
      ]
    },
    {
      "cell_type": "code",
      "metadata": {
        "id": "PQr-4w76Uack"
      },
      "source": [
        "#ratings disabled\n",
        "\n",
        "df[\"ratings_disabled\"].value_counts()\n",
        "\n"
      ],
      "execution_count": null,
      "outputs": []
    },
    {
      "cell_type": "code",
      "metadata": {
        "id": "Waob6la3XIk3"
      },
      "source": [
        "#comments_disabled count\n",
        "df[\"comments_disabled\"].value_counts()"
      ],
      "execution_count": null,
      "outputs": []
    },
    {
      "cell_type": "code",
      "metadata": {
        "id": "OXIrR9flXI59"
      },
      "source": [
        "#percentages\n",
        "ratingsdisabled = 40780/40948\n",
        "commentsdisabled = 40316/40948\n",
        "\n",
        "print(ratingsdisabled)\n",
        "print(commentsdisabled)"
      ],
      "execution_count": null,
      "outputs": []
    },
    {
      "cell_type": "markdown",
      "metadata": {
        "id": "HWF0LCUSx_aQ"
      },
      "source": [
        "checking if certain channels are more likely to trend"
      ]
    },
    {
      "cell_type": "code",
      "metadata": {
        "id": "XgDJp9kRyEKN"
      },
      "source": [
        "#channel count\n",
        "channel_lst = []\n",
        "\n",
        "for channel in df[\"channel_title\"]:\n",
        "  channel_lst.append(channel)\n",
        "\n",
        "c = Counter(channel_lst)\n",
        "c.most_common(10)"
      ],
      "execution_count": null,
      "outputs": []
    },
    {
      "cell_type": "markdown",
      "metadata": {
        "id": "oQTf6GS_1zqw"
      },
      "source": [
        "checking text within titles to see if there are bias words"
      ]
    }
  ]
}