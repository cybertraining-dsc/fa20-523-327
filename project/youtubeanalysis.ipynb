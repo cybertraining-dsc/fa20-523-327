{
  "nbformat": 4,
  "nbformat_minor": 0,
  "metadata": {
    "kernelspec": {
      "display_name": "Python 3",
      "language": "python",
      "name": "python3"
    },
    "language_info": {
      "codemirror_mode": {
        "name": "ipython",
        "version": 3
      },
      "file_extension": ".py",
      "mimetype": "text/x-python",
      "name": "python",
      "nbconvert_exporter": "python",
      "pygments_lexer": "ipython3",
      "version": "3.7.6"
    },
    "colab": {
      "name": "youtubeanalysis.ipynb",
      "provenance": [],
      "collapsed_sections": []
    }
  },
  "cells": [
    {
      "cell_type": "code",
      "metadata": {
        "id": "r0fd-lYg0vn8"
      },
      "source": [
        "#check if python is installed\n",
        "try:\n",
        "  !python --version\n",
        "except:\n",
        "  print(\"It does not look like python is installed\")"
      ],
      "execution_count": null,
      "outputs": []
    },
    {
      "cell_type": "markdown",
      "metadata": {
        "id": "6JPh0sjD062U"
      },
      "source": [
        "Importing Data"
      ]
    },
    {
      "cell_type": "code",
      "metadata": {
        "id": "CAlRPiv5hXjD"
      },
      "source": [
        "#import from kaggle.json from local to drive\n",
        "!pip install -q kaggle\n",
        "from google.colab import files\n",
        "files.upload()"
      ],
      "execution_count": null,
      "outputs": []
    },
    {
      "cell_type": "code",
      "metadata": {
        "id": "Q7cJnQ0VhXjG"
      },
      "source": [
        "#make a kaggle folder\n",
        "!mkdir ~/kaggle"
      ],
      "execution_count": null,
      "outputs": []
    },
    {
      "cell_type": "code",
      "metadata": {
        "id": "Bv5GZLW3lk-G"
      },
      "source": [
        "!cp kaggle.json ~/kaggle/"
      ],
      "execution_count": null,
      "outputs": []
    },
    {
      "cell_type": "code",
      "metadata": {
        "id": "5-Q2RgFClm4s"
      },
      "source": [
        "! chmod 600 ~/kaggle/kaggle.json"
      ],
      "execution_count": null,
      "outputs": []
    },
    {
      "cell_type": "code",
      "metadata": {
        "id": "F44WO-7elpcD"
      },
      "source": [
        "!kaggle datasets download -d datasnaek/youtube-new"
      ],
      "execution_count": null,
      "outputs": []
    },
    {
      "cell_type": "code",
      "metadata": {
        "scrolled": true,
        "id": "wCZPQNdHhXip"
      },
      "source": [
        "#import modules\n",
        "import pandas as pd\n",
        "import datetime\n",
        "import numpy as np\n",
        "import matplotlib.pyplot as plt\n",
        "from sklearn.datasets import load_iris\n",
        "from sklearn.tree import DecisionTreeClassifier\n",
        "from sklearn.ensemble import RandomForestClassifier\n",
        "from sklearn.model_selection import train_test_split\n",
        "from sklearn.preprocessing import LabelEncoder\n",
        "from sklearn import tree\n",
        "\n",
        "\n",
        "#load file\n",
        "def load_csv(file):\n",
        "\tdf = pd.read_csv(file)\n",
        "\treturn df\n",
        "\n",
        "\n",
        "#main\n",
        "if __name__== \"__main__\":\n",
        "  date_file = \"USvideos.csv\"\n",
        "\n",
        "df = pd.read_csv(\"USvideos.csv\")"
      ],
      "execution_count": 17,
      "outputs": []
    },
    {
      "cell_type": "markdown",
      "metadata": {
        "id": "Q0HQFAwArL6s"
      },
      "source": [
        "familiarize myself with the data"
      ]
    },
    {
      "cell_type": "code",
      "metadata": {
        "id": "ysTQWlV-rAYi"
      },
      "source": [
        "#get column headers\n",
        "for col in df:\n",
        "    print(col)"
      ],
      "execution_count": null,
      "outputs": []
    },
    {
      "cell_type": "code",
      "metadata": {
        "id": "yoopHPxhqz0B"
      },
      "source": [
        "df.info()"
      ],
      "execution_count": null,
      "outputs": []
    },
    {
      "cell_type": "code",
      "metadata": {
        "id": "l6fn3Hx2rfPe"
      },
      "source": [
        "df.describe()"
      ],
      "execution_count": null,
      "outputs": []
    },
    {
      "cell_type": "code",
      "metadata": {
        "id": "3HsBya1VrrCg"
      },
      "source": [
        "#Check for null values\n",
        "null = df.isna().sum()\n",
        "\n",
        "for key in null.keys():\n",
        "    if(null[key] > 0):\n",
        "        print(key,\":\",null[key])\n"
      ],
      "execution_count": null,
      "outputs": []
    },
    {
      "cell_type": "markdown",
      "metadata": {
        "id": "VN75HNG7UJPe"
      },
      "source": [
        "decision tree"
      ]
    },
    {
      "cell_type": "code",
      "metadata": {
        "id": "FbpA49R7lrd5"
      },
      "source": [
        "inputs = df.drop(['views', 'video_id'], axis ='columns')\n",
        "target = df['views']\n",
        "\n",
        "le_trending_date = LabelEncoder()\n",
        "le_title = LabelEncoder()\n",
        "le_channel_title = LabelEncoder()\n",
        "le_category_id = LabelEncoder()\n",
        "le_publish_time = LabelEncoder()\n",
        "le_tags = LabelEncoder()\n",
        "le_likes = LabelEncoder()\n",
        "le_dislikes = LabelEncoder()\n",
        "le_comment_count = LabelEncoder()\n",
        "le_comments_disabled = LabelEncoder()\n",
        "le_ratings_disabled = LabelEncoder()\n",
        "le_description = LabelEncoder()"
      ],
      "execution_count": 22,
      "outputs": []
    },
    {
      "cell_type": "code",
      "metadata": {
        "id": "lEv-ZVGYBZ2F"
      },
      "source": [
        "inputs['trending_date_n'] = le_trending_date.fit_transform(inputs['trending_date'])\n",
        "inputs['le_title_n'] = le_title.fit_transform(inputs['title'])\n",
        "inputs['le_channel_title_n'] = le_channel_title.fit_transform(inputs['channel_title'])\n",
        "inputs['le_category_id_n'] = le_category_id.fit_transform(inputs['category_id'])\n",
        "inputs['le_publish_time_n'] = le_publish_time.fit_transform(inputs['publish_time'])\n",
        "inputs['le_tags_n'] = le_tags.fit_transform(inputs['tags'])\n",
        "inputs['le_likes_n'] = le_likes.fit_transform(inputs['likes'])\n",
        "inputs['le_dislikes_n'] = le_dislikes.fit_transform(inputs['dislikes'])\n",
        "inputs['le_comment_count_n'] = le_comment_count.fit_transform(inputs['comment_count'])\n",
        "inputs['le_comments_disabled_n'] = le_comments_disabled.fit_transform(inputs['comments_disabled'])\n",
        "inputs['le_ratings_disabled_n'] = le_ratings_disabled.fit_transform(inputs['ratings_disabled'])\n",
        "#inputs['le_description_n'] = le_description.fit_transform(inputs['description'])\n",
        "inputs.head()"
      ],
      "execution_count": null,
      "outputs": []
    },
    {
      "cell_type": "code",
      "metadata": {
        "id": "v0QbmCG7LbO6"
      },
      "source": [
        "inputs_n = inputs.drop(['trending_date', 'title', 'channel_title', 'category_id', 'publish_time', 'tags', \n",
        "                        'likes', 'dislikes', 'comment_count', 'thumbnail_link', 'comments_disabled', \n",
        "                        'ratings_disabled', 'video_error_or_removed', 'description'], axis = 'columns')\n",
        "inputs_n"
      ],
      "execution_count": null,
      "outputs": []
    },
    {
      "cell_type": "code",
      "metadata": {
        "id": "wfhHxtsaMsMx"
      },
      "source": [
        "model = tree.DecisionTreeClassifier()\n",
        "model.fit(inputs_n, target)"
      ],
      "execution_count": null,
      "outputs": []
    },
    {
      "cell_type": "code",
      "metadata": {
        "scrolled": true,
        "id": "5omiYTs6hXi5",
        "outputId": "7731d5b3-2542-4e39-d4d2-e350876d1d54",
        "colab": {
          "base_uri": "https://localhost:8080/"
        }
      },
      "source": [
        "#how long does it take for a video to trend\n",
        "print(date_obj2 - date_obj)"
      ],
      "execution_count": 22,
      "outputs": [
        {
          "output_type": "stream",
          "text": [
            "28 days, 0:00:00\n"
          ],
          "name": "stdout"
        }
      ]
    },
    {
      "cell_type": "code",
      "metadata": {
        "scrolled": false,
        "id": "rdxJW5llhXit",
        "outputId": "cd9617d1-de2d-4889-d7af-894b64d1c9cc",
        "colab": {
          "base_uri": "https://localhost:8080/"
        }
      },
      "source": [
        "#average view per trending video\n",
        "average = sum(df[\"views\"]) / len(df[\"views\"])\n",
        "\n",
        "print(\"The average view per trending video is\",str(round(average,2)))"
      ],
      "execution_count": 17,
      "outputs": [
        {
          "output_type": "stream",
          "text": [
            "The average view per trending video is 2360784.64\n"
          ],
          "name": "stdout"
        }
      ]
    },
    {
      "cell_type": "code",
      "metadata": {
        "id": "_LsXKd3WhXix"
      },
      "source": [
        "#clean publish date\n",
        "#currently date is formatted 2017-11-13\n",
        "for time in df[\"publish_time\"]:\n",
        "    slicedtime = time[:10]\n",
        "    date_obj = datetime.datetime.strptime(slicedtime, \"%Y-%m-%d\")\n",
        "    print(date_obj)"
      ],
      "execution_count": null,
      "outputs": []
    },
    {
      "cell_type": "code",
      "metadata": {
        "scrolled": true,
        "id": "_mUGYBaghXi1"
      },
      "source": [
        "#clean trending date\n",
        "#currently date is formatted 17-14-11\n",
        "twenty = (\"20\")\n",
        "for date in df[\"trending_date\"]:\n",
        "    takeoutperiods = date.replace(\".\",\"-\")\n",
        "    dateformat = str(twenty + takeoutperiods)\n",
        "    date_obj2 = datetime.datetime.strptime(dateformat, \"%Y-%d-%m\")\n",
        "    print(date_obj)\n",
        "    "
      ],
      "execution_count": null,
      "outputs": []
    }
  ]
}